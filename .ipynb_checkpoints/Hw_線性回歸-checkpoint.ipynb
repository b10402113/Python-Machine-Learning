{
 "cells": [
  {
   "cell_type": "code",
   "execution_count": 229,
   "metadata": {},
   "outputs": [],
   "source": [
    "%matplotlib inline\n",
    "import matplotlib.pyplot as plt\n",
    "import numpy as np\n",
    "import pandas as pd\n",
    "from sklearn.linear_model import LinearRegression\n",
    "import locale"
   ]
  },
  {
   "cell_type": "code",
   "execution_count": 269,
   "metadata": {},
   "outputs": [],
   "source": [
    "# 設定plt中文字體\n",
    "font = {'family' : 'DFKai-SB',\n",
    "'weight' : 'normal',\n",
    "'size'  : '16'}\n",
    "plt.rc('font', **font) # pass in the font dict as kwargs\n",
    "plt.rc('axes',unicode_minus=False)"
   ]
  },
  {
   "cell_type": "markdown",
   "metadata": {},
   "source": [
    "# 預測每年來台旅客人數"
   ]
  },
  {
   "cell_type": "code",
   "execution_count": 270,
   "metadata": {},
   "outputs": [],
   "source": [
    "#讀入資料\n",
    "df = pd.read_csv('歷年來台旅客統計.csv')\n",
    "from sklearn.model_selection import train_test_split"
   ]
  },
  {
   "cell_type": "code",
   "execution_count": 271,
   "metadata": {},
   "outputs": [
    {
     "data": {
      "text/html": [
       "<div>\n",
       "<style scoped>\n",
       "    .dataframe tbody tr th:only-of-type {\n",
       "        vertical-align: middle;\n",
       "    }\n",
       "\n",
       "    .dataframe tbody tr th {\n",
       "        vertical-align: top;\n",
       "    }\n",
       "\n",
       "    .dataframe thead th {\n",
       "        text-align: right;\n",
       "    }\n",
       "</style>\n",
       "<table border=\"1\" class=\"dataframe\">\n",
       "  <thead>\n",
       "    <tr style=\"text-align: right;\">\n",
       "      <th></th>\n",
       "      <th>年別</th>\n",
       "      <th>總計人數</th>\n",
       "      <th>總計成長率</th>\n",
       "      <th>總計指數</th>\n",
       "      <th>外籍旅客人數</th>\n",
       "      <th>外籍旅客成長率</th>\n",
       "      <th>外籍旅客占總計百分比</th>\n",
       "      <th>華僑旅客人數</th>\n",
       "      <th>華僑旅客成長率</th>\n",
       "      <th>華僑旅客占總計百分比</th>\n",
       "    </tr>\n",
       "  </thead>\n",
       "  <tbody>\n",
       "    <tr>\n",
       "      <th>0</th>\n",
       "      <td>1956</td>\n",
       "      <td>14,974</td>\n",
       "      <td>-</td>\n",
       "      <td>0.81</td>\n",
       "      <td>11,734</td>\n",
       "      <td>-</td>\n",
       "      <td>78.36</td>\n",
       "      <td>3,240</td>\n",
       "      <td>-</td>\n",
       "      <td>21.64</td>\n",
       "    </tr>\n",
       "    <tr>\n",
       "      <th>1</th>\n",
       "      <td>1957</td>\n",
       "      <td>18,159</td>\n",
       "      <td>21.27</td>\n",
       "      <td>0.98</td>\n",
       "      <td>14,068</td>\n",
       "      <td>19.89</td>\n",
       "      <td>77.47</td>\n",
       "      <td>4,091</td>\n",
       "      <td>26.27</td>\n",
       "      <td>22.53</td>\n",
       "    </tr>\n",
       "    <tr>\n",
       "      <th>2</th>\n",
       "      <td>1958</td>\n",
       "      <td>16,709</td>\n",
       "      <td>-7.99</td>\n",
       "      <td>0.90</td>\n",
       "      <td>15,557</td>\n",
       "      <td>10.58</td>\n",
       "      <td>93.11</td>\n",
       "      <td>1,152</td>\n",
       "      <td>-71.84</td>\n",
       "      <td>6.89</td>\n",
       "    </tr>\n",
       "    <tr>\n",
       "      <th>3</th>\n",
       "      <td>1959</td>\n",
       "      <td>19,328</td>\n",
       "      <td>15.67</td>\n",
       "      <td>1.04</td>\n",
       "      <td>17,634</td>\n",
       "      <td>13.35</td>\n",
       "      <td>91.24</td>\n",
       "      <td>1,694</td>\n",
       "      <td>47.05</td>\n",
       "      <td>8.76</td>\n",
       "    </tr>\n",
       "    <tr>\n",
       "      <th>4</th>\n",
       "      <td>1960</td>\n",
       "      <td>23,636</td>\n",
       "      <td>22.29</td>\n",
       "      <td>1.27</td>\n",
       "      <td>20,796</td>\n",
       "      <td>17.93</td>\n",
       "      <td>87.98</td>\n",
       "      <td>2,840</td>\n",
       "      <td>67.65</td>\n",
       "      <td>12.02</td>\n",
       "    </tr>\n",
       "  </tbody>\n",
       "</table>\n",
       "</div>"
      ],
      "text/plain": [
       "     年別    總計人數  總計成長率  總計指數  外籍旅客人數 外籍旅客成長率  外籍旅客占總計百分比 華僑旅客人數 華僑旅客成長率  \\\n",
       "0  1956  14,974      -  0.81  11,734       -       78.36  3,240       -   \n",
       "1  1957  18,159  21.27  0.98  14,068   19.89       77.47  4,091   26.27   \n",
       "2  1958  16,709  -7.99  0.90  15,557   10.58       93.11  1,152  -71.84   \n",
       "3  1959  19,328  15.67  1.04  17,634   13.35       91.24  1,694   47.05   \n",
       "4  1960  23,636  22.29  1.27  20,796   17.93       87.98  2,840   67.65   \n",
       "\n",
       "   華僑旅客占總計百分比  \n",
       "0       21.64  \n",
       "1       22.53  \n",
       "2        6.89  \n",
       "3        8.76  \n",
       "4       12.02  "
      ]
     },
     "execution_count": 271,
     "metadata": {},
     "output_type": "execute_result"
    }
   ],
   "source": [
    "df.head()"
   ]
  },
  {
   "cell_type": "code",
   "execution_count": 272,
   "metadata": {},
   "outputs": [],
   "source": [
    "# 篩選資料\n",
    "df = df[['年別','總計人數']]"
   ]
  },
  {
   "cell_type": "code",
   "execution_count": 273,
   "metadata": {},
   "outputs": [
    {
     "data": {
      "text/html": [
       "<div>\n",
       "<style scoped>\n",
       "    .dataframe tbody tr th:only-of-type {\n",
       "        vertical-align: middle;\n",
       "    }\n",
       "\n",
       "    .dataframe tbody tr th {\n",
       "        vertical-align: top;\n",
       "    }\n",
       "\n",
       "    .dataframe thead th {\n",
       "        text-align: right;\n",
       "    }\n",
       "</style>\n",
       "<table border=\"1\" class=\"dataframe\">\n",
       "  <thead>\n",
       "    <tr style=\"text-align: right;\">\n",
       "      <th></th>\n",
       "      <th>年別</th>\n",
       "      <th>總計人數</th>\n",
       "    </tr>\n",
       "  </thead>\n",
       "  <tbody>\n",
       "    <tr>\n",
       "      <th>0</th>\n",
       "      <td>1956</td>\n",
       "      <td>14,974</td>\n",
       "    </tr>\n",
       "    <tr>\n",
       "      <th>1</th>\n",
       "      <td>1957</td>\n",
       "      <td>18,159</td>\n",
       "    </tr>\n",
       "    <tr>\n",
       "      <th>2</th>\n",
       "      <td>1958</td>\n",
       "      <td>16,709</td>\n",
       "    </tr>\n",
       "    <tr>\n",
       "      <th>3</th>\n",
       "      <td>1959</td>\n",
       "      <td>19,328</td>\n",
       "    </tr>\n",
       "    <tr>\n",
       "      <th>4</th>\n",
       "      <td>1960</td>\n",
       "      <td>23,636</td>\n",
       "    </tr>\n",
       "  </tbody>\n",
       "</table>\n",
       "</div>"
      ],
      "text/plain": [
       "     年別    總計人數\n",
       "0  1956  14,974\n",
       "1  1957  18,159\n",
       "2  1958  16,709\n",
       "3  1959  19,328\n",
       "4  1960  23,636"
      ]
     },
     "execution_count": 273,
     "metadata": {},
     "output_type": "execute_result"
    }
   ],
   "source": [
    "df.head()"
   ]
  },
  {
   "cell_type": "code",
   "execution_count": 274,
   "metadata": {},
   "outputs": [],
   "source": [
    "#更改逗號為整數\n",
    "locale.setlocale(locale.LC_NUMERIC, '')\n",
    "df['總計人數'] = df['總計人數'].apply(locale.atoi)"
   ]
  },
  {
   "cell_type": "code",
   "execution_count": 275,
   "metadata": {},
   "outputs": [
    {
     "data": {
      "image/png": "[encoded data removed]",
      "text/plain": [
       "<Figure size 1080x504 with 1 Axes>"
      ]
     },
     "metadata": {
      "needs_background": "light"
     },
     "output_type": "display_data"
    }
   ],
   "source": [
    "# 畫出每年來台人數的統計圖表\n",
    "dfp = df.plot.bar(x='年別', y='總計人數', label = 'People', color = 'darkorange',figsize=(15,7))\n",
    "dfp.set( xlabel= 'Year-Month', ylabel = 'PeopleNumber', title = 'Travelers')\n",
    "plt.tight_layout()\n",
    "plt.grid()\n",
    "plt.legend()\n",
    "plt.show()"
   ]
  },
  {
   "cell_type": "code",
   "execution_count": 276,
   "metadata": {},
   "outputs": [
    {
     "data": {
      "text/html": [
       "<div>\n",
       "<style scoped>\n",
       "    .dataframe tbody tr th:only-of-type {\n",
       "        vertical-align: middle;\n",
       "    }\n",
       "\n",
       "    .dataframe tbody tr th {\n",
       "        vertical-align: top;\n",
       "    }\n",
       "\n",
       "    .dataframe thead th {\n",
       "        text-align: right;\n",
       "    }\n",
       "</style>\n",
       "<table border=\"1\" class=\"dataframe\">\n",
       "  <thead>\n",
       "    <tr style=\"text-align: right;\">\n",
       "      <th></th>\n",
       "      <th>年別</th>\n",
       "      <th>總計人數</th>\n",
       "    </tr>\n",
       "  </thead>\n",
       "  <tbody>\n",
       "    <tr>\n",
       "      <th>0</th>\n",
       "      <td>1956</td>\n",
       "      <td>14974</td>\n",
       "    </tr>\n",
       "    <tr>\n",
       "      <th>1</th>\n",
       "      <td>1957</td>\n",
       "      <td>18159</td>\n",
       "    </tr>\n",
       "    <tr>\n",
       "      <th>2</th>\n",
       "      <td>1958</td>\n",
       "      <td>16709</td>\n",
       "    </tr>\n",
       "    <tr>\n",
       "      <th>3</th>\n",
       "      <td>1959</td>\n",
       "      <td>19328</td>\n",
       "    </tr>\n",
       "    <tr>\n",
       "      <th>4</th>\n",
       "      <td>1960</td>\n",
       "      <td>23636</td>\n",
       "    </tr>\n",
       "  </tbody>\n",
       "</table>\n",
       "</div>"
      ],
      "text/plain": [
       "     年別   總計人數\n",
       "0  1956  14974\n",
       "1  1957  18159\n",
       "2  1958  16709\n",
       "3  1959  19328\n",
       "4  1960  23636"
      ]
     },
     "execution_count": 276,
     "metadata": {},
     "output_type": "execute_result"
    }
   ],
   "source": [
    "df.head()"
   ]
  },
  {
   "cell_type": "code",
   "execution_count": 277,
   "metadata": {},
   "outputs": [],
   "source": [
    "year = df.年別                                         \n",
    "number = df.總計人數\n",
    "x=np.array(year)\n",
    "y=np.array(number)\n",
    "# reshape為可以fit的資料型態\n",
    "X = x.reshape(len(x), 1)\n",
    "Y = y.reshape(len(y), 1)"
   ]
  },
  {
   "cell_type": "code",
   "execution_count": 278,
   "metadata": {},
   "outputs": [],
   "source": [
    "# 切割資料\n",
    "x_train, x_test, y_train, y_test = train_test_split(X, y, test_size=0.5, random_state=31)"
   ]
  },
  {
   "cell_type": "code",
   "execution_count": 279,
   "metadata": {},
   "outputs": [
    {
     "data": {
      "text/plain": [
       "<matplotlib.legend.Legend at 0x1a7f487b00>"
      ]
     },
     "execution_count": 279,
     "metadata": {},
     "output_type": "execute_result"
    },
    {
     "data": {
      "image/png": "[encoded data removed]",
      "text/plain": [
       "<Figure size 432x288 with 1 Axes>"
      ]
     },
     "metadata": {
      "needs_background": "light"
     },
     "output_type": "display_data"
    }
   ],
   "source": [
    "# show出訓練資料\n",
    "plt.scatter(x_train, y_train, label = 'Train Data')\n",
    "plt.legend()"
   ]
  },
  {
   "cell_type": "code",
   "execution_count": 280,
   "metadata": {},
   "outputs": [
    {
     "data": {
      "text/plain": [
       "<matplotlib.legend.Legend at 0x1a7f0e6a90>"
      ]
     },
     "execution_count": 280,
     "metadata": {},
     "output_type": "execute_result"
    },
    {
     "data": {
      "image/png": "[encoded data removed]",
      "text/plain": [
       "<Figure size 432x288 with 1 Axes>"
      ]
     },
     "metadata": {
      "needs_background": "light"
     },
     "output_type": "display_data"
    }
   ],
   "source": [
    "# show出測試資料\n",
    "plt.scatter(x_test, y_test, label = 'Test Data')\n",
    "plt.legend()"
   ]
  },
  {
   "cell_type": "code",
   "execution_count": 281,
   "metadata": {},
   "outputs": [],
   "source": [
    "#製作一個回歸的機器\n",
    "regr = LinearRegression()\n",
    "# 訓練\n",
    "regr.fit(x_train, y_train)\n",
    " # 預測\n",
    "Yp = regr.predict(x_test)"
   ]
  },
  {
   "cell_type": "code",
   "execution_count": 282,
   "metadata": {},
   "outputs": [
    {
     "data": {
      "image/png": "[encoded data removed]",
      "text/plain": [
       "<Figure size 1440x864 with 1 Axes>"
      ]
     },
     "metadata": {
      "needs_background": "light"
     },
     "output_type": "display_data"
    },
    {
     "data": {
      "text/plain": [
       "<Figure size 2160x288 with 0 Axes>"
      ]
     },
     "metadata": {},
     "output_type": "display_data"
    }
   ],
   "source": [
    "#圖畫出來\n",
    "plt.figure(num=3, figsize=(20, 12))\n",
    "plt.scatter(x_test, y_test)\n",
    "plt.scatter(x_train, y_train, label = '訓練資料',color = 'pink')\n",
    "plt.scatter(x_test, y_test, label = '測試資料',color = 'yellow')\n",
    "plt.plot(x_test, Yp, 'r',label = '線性回歸')\n",
    "plt.xlabel('年')\n",
    "plt.ylabel('人數')\n",
    "plt.legend()\n",
    "plt.title('每年來台人數回歸預測')\n",
    "plt.figure(figsize=(30,4))\n",
    "plt.show()"
   ]
  },
  {
   "cell_type": "markdown",
   "metadata": {},
   "source": [
    "## 由此下面可知我們預測的準確率是68%"
   ]
  },
  {
   "cell_type": "code",
   "execution_count": 284,
   "metadata": {},
   "outputs": [
    {
     "name": "stdout",
     "output_type": "stream",
     "text": [
      "準確率= 0.6872172167867714\n",
      "係數= [134208.26057969]\n"
     ]
    }
   ],
   "source": [
    "print('準確率=', regr.score(x_test,y_test))  \n",
    "print('係數=', regr.coef_)  "
   ]
  }
 ],
 "metadata": {
  "kernelspec": {
   "display_name": "Python 3",
   "language": "python",
   "name": "python3"
  },
  "language_info": {
   "codemirror_mode": {
    "name": "ipython",
    "version": 3
   },
   "file_extension": ".py",
   "mimetype": "text/x-python",
   "name": "python",
   "nbconvert_exporter": "python",
   "pygments_lexer": "ipython3",
   "version": "3.6.8"
  }
 },
 "nbformat": 4,
 "nbformat_minor": 2
}
