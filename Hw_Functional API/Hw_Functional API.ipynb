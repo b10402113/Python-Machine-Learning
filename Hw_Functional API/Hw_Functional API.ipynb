{
 "cells": [
  {
   "cell_type": "markdown",
   "metadata": {},
   "source": [
    "## 使用Functional API建構NN & 分岔"
   ]
  },
  {
   "cell_type": "code",
   "execution_count": 29,
   "metadata": {},
   "outputs": [
    {
     "name": "stdout",
     "output_type": "stream",
     "text": [
      "env: KERAS_BACKEND=tensorflow\n"
     ]
    }
   ],
   "source": [
    "# 引入所有套件\n",
    "%env KERAS_BACKEND=tensorflow\n",
    "%matplotlib inline\n",
    "# 繪圖及陣列\n",
    "import matplotlib.pyplot as plt\n",
    "import numpy as np\n",
    "# Keras 套件\n",
    "from keras.models import Sequential\n",
    "from keras.layers import Dense, Activation\n",
    "from keras.optimizers import SGD\n",
    "# Keras 資料集\n",
    "from keras.datasets import mnist\n",
    "# Keras utils\n",
    "from keras.utils import np_utils\n",
    "from keras.utils import to_categorical\n",
    "# Keras製作Functional API\n",
    "from keras.models import Model\n",
    "from keras.layers import Input\n",
    "# Keras 分岔專用\n",
    "from keras.layers import concatenate, add\n"
   ]
  },
  {
   "cell_type": "markdown",
   "metadata": {},
   "source": [
    "## 生成測試集與訓練集，並對資料做處理"
   ]
  },
  {
   "cell_type": "code",
   "execution_count": 30,
   "metadata": {},
   "outputs": [],
   "source": [
    "(x_train0, y_train0), (x_test0, y_test0) = mnist.load_data()"
   ]
  },
  {
   "cell_type": "code",
   "execution_count": 31,
   "metadata": {},
   "outputs": [],
   "source": [
    "x_train = x_train0.reshape(60000,28*28)\n",
    "x_test = x_test0.reshape(10000,28*28)\n",
    "x_train -= x_train.min()\n",
    "x_train = x_train/x_train.max()"
   ]
  },
  {
   "cell_type": "code",
   "execution_count": 32,
   "metadata": {},
   "outputs": [
    {
     "data": {
      "text/plain": [
       "(0.0, 1.0)"
      ]
     },
     "execution_count": 32,
     "metadata": {},
     "output_type": "execute_result"
    }
   ],
   "source": [
    "x_train.min(), x_train.max()"
   ]
  },
  {
   "cell_type": "code",
   "execution_count": 33,
   "metadata": {},
   "outputs": [],
   "source": [
    "y_train = to_categorical(y_train0, 10)\n",
    "y_test = to_categorical(y_test0, 10)"
   ]
  },
  {
   "cell_type": "markdown",
   "metadata": {},
   "source": [
    "### 上次的訓練模型為："
   ]
  },
  {
   "cell_type": "markdown",
   "metadata": {},
   "source": [
    "<img src=\"img/1.png\">"
   ]
  },
  {
   "cell_type": "markdown",
   "metadata": {},
   "source": [
    "### 這次加上分岔更改為："
   ]
  },
  {
   "cell_type": "markdown",
   "metadata": {},
   "source": [
    "<img src=\"img/2.png\">"
   ]
  },
  {
   "cell_type": "markdown",
   "metadata": {},
   "source": [
    "上次作業只有純用sigmoid做，後來聽同學說relu跟elu的效果會比較好，因此加上去。"
   ]
  },
  {
   "cell_type": "code",
   "execution_count": 34,
   "metadata": {},
   "outputs": [],
   "source": [
    "# 根據上述圖自定義function\n",
    "f_1 = Dense(200, activation='sigmoid')\n",
    "f_2 = Dense(200, activation='sigmoid')\n",
    "f_3 = Dense(25, activation='relu')\n",
    "f_4 = Dense(25, activation='relu')\n",
    "f_5 = Dense(30, activation='elu')\n",
    "f_6 = Dense(30, activation='elu')\n",
    "f_7 = Dense(60, activation='elu')\n",
    "f_8 = Dense(10, activation='softmax')"
   ]
  },
  {
   "cell_type": "code",
   "execution_count": 35,
   "metadata": {},
   "outputs": [],
   "source": [
    "# input\n",
    "x = Input(shape=(784,))"
   ]
  },
  {
   "cell_type": "code",
   "execution_count": 36,
   "metadata": {},
   "outputs": [],
   "source": [
    "h_1 = f_1(x)\n",
    "h_2 = f_2(x)\n",
    "h_3 = f_3(h_1)\n",
    "h_4 = f_4(h_2)\n",
    "h_5 = f_5(h_3)\n",
    "h_6 = f_6(h_4)\n",
    "h_7 = concatenate([h_5, h_6])\n",
    "h_8 = f_7(h_7)\n",
    "y = f_8(h_8)"
   ]
  },
  {
   "cell_type": "code",
   "execution_count": 37,
   "metadata": {},
   "outputs": [
    {
     "name": "stdout",
     "output_type": "stream",
     "text": [
      "__________________________________________________________________________________________________\n",
      "Layer (type)                    Output Shape         Param #     Connected to                     \n",
      "==================================================================================================\n",
      "input_2 (InputLayer)            (None, 784)          0                                            \n",
      "__________________________________________________________________________________________________\n",
      "dense_9 (Dense)                 (None, 200)          157000      input_2[0][0]                    \n",
      "__________________________________________________________________________________________________\n",
      "dense_10 (Dense)                (None, 200)          157000      input_2[0][0]                    \n",
      "__________________________________________________________________________________________________\n",
      "dense_11 (Dense)                (None, 25)           5025        dense_9[0][0]                    \n",
      "__________________________________________________________________________________________________\n",
      "dense_12 (Dense)                (None, 25)           5025        dense_10[0][0]                   \n",
      "__________________________________________________________________________________________________\n",
      "dense_13 (Dense)                (None, 30)           780         dense_11[0][0]                   \n",
      "__________________________________________________________________________________________________\n",
      "dense_14 (Dense)                (None, 30)           780         dense_12[0][0]                   \n",
      "__________________________________________________________________________________________________\n",
      "concatenate_2 (Concatenate)     (None, 60)           0           dense_13[0][0]                   \n",
      "                                                                 dense_14[0][0]                   \n",
      "__________________________________________________________________________________________________\n",
      "dense_15 (Dense)                (None, 60)           3660        concatenate_2[0][0]              \n",
      "__________________________________________________________________________________________________\n",
      "dense_16 (Dense)                (None, 10)           610         dense_15[0][0]                   \n",
      "==================================================================================================\n",
      "Total params: 329,880\n",
      "Trainable params: 329,880\n",
      "Non-trainable params: 0\n",
      "__________________________________________________________________________________________________\n"
     ]
    }
   ],
   "source": [
    "model = Model(x, y)\n",
    "model.summary()"
   ]
  },
  {
   "cell_type": "code",
   "execution_count": 38,
   "metadata": {},
   "outputs": [
    {
     "name": "stdout",
     "output_type": "stream",
     "text": [
      "Train on 60000 samples, validate on 10000 samples\n",
      "Epoch 1/40\n",
      "60000/60000 [==============================] - 3s 48us/step - loss: 0.0180 - acc: 0.8807 - val_loss: 0.0112 - val_acc: 0.9288\n",
      "Epoch 2/40\n",
      "60000/60000 [==============================] - 3s 42us/step - loss: 0.0091 - acc: 0.9406 - val_loss: 0.0078 - val_acc: 0.9518\n",
      "Epoch 3/40\n",
      "60000/60000 [==============================] - 3s 42us/step - loss: 0.0070 - acc: 0.9541 - val_loss: 0.0072 - val_acc: 0.9541\n",
      "Epoch 4/40\n",
      "60000/60000 [==============================] - 3s 43us/step - loss: 0.0057 - acc: 0.9630 - val_loss: 0.0068 - val_acc: 0.9560\n",
      "Epoch 5/40\n",
      "60000/60000 [==============================] - 3s 44us/step - loss: 0.0048 - acc: 0.9699 - val_loss: 0.0062 - val_acc: 0.9596\n",
      "Epoch 6/40\n",
      "60000/60000 [==============================] - 3s 43us/step - loss: 0.0040 - acc: 0.9749 - val_loss: 0.0062 - val_acc: 0.9606\n",
      "Epoch 7/40\n",
      "60000/60000 [==============================] - 3s 43us/step - loss: 0.0034 - acc: 0.9782 - val_loss: 0.0050 - val_acc: 0.9677\n",
      "Epoch 8/40\n",
      "60000/60000 [==============================] - 3s 44us/step - loss: 0.0029 - acc: 0.9816 - val_loss: 0.0052 - val_acc: 0.9671\n",
      "Epoch 9/40\n",
      "60000/60000 [==============================] - 3s 43us/step - loss: 0.0026 - acc: 0.9841 - val_loss: 0.0049 - val_acc: 0.9680\n",
      "Epoch 10/40\n",
      "60000/60000 [==============================] - 3s 43us/step - loss: 0.0022 - acc: 0.9858 - val_loss: 0.0055 - val_acc: 0.9655\n",
      "Epoch 11/40\n",
      "60000/60000 [==============================] - 3s 42us/step - loss: 0.0021 - acc: 0.9870 - val_loss: 0.0057 - val_acc: 0.9635\n",
      "Epoch 12/40\n",
      "60000/60000 [==============================] - 3s 44us/step - loss: 0.0019 - acc: 0.9885 - val_loss: 0.0053 - val_acc: 0.9670\n",
      "Epoch 13/40\n",
      "60000/60000 [==============================] - 3s 44us/step - loss: 0.0017 - acc: 0.9899 - val_loss: 0.0052 - val_acc: 0.9686\n",
      "Epoch 14/40\n",
      "60000/60000 [==============================] - 3s 43us/step - loss: 0.0015 - acc: 0.9911 - val_loss: 0.0054 - val_acc: 0.9666\n",
      "Epoch 15/40\n",
      "60000/60000 [==============================] - 3s 43us/step - loss: 0.0014 - acc: 0.9915 - val_loss: 0.0047 - val_acc: 0.9706\n",
      "Epoch 16/40\n",
      "60000/60000 [==============================] - 3s 44us/step - loss: 0.0013 - acc: 0.9924 - val_loss: 0.0050 - val_acc: 0.9693\n",
      "Epoch 17/40\n",
      "60000/60000 [==============================] - 3s 43us/step - loss: 0.0013 - acc: 0.9924 - val_loss: 0.0058 - val_acc: 0.9637\n",
      "Epoch 18/40\n",
      "60000/60000 [==============================] - 3s 44us/step - loss: 0.0012 - acc: 0.9928 - val_loss: 0.0055 - val_acc: 0.9660\n",
      "Epoch 19/40\n",
      "60000/60000 [==============================] - 3s 43us/step - loss: 0.0011 - acc: 0.9933 - val_loss: 0.0046 - val_acc: 0.9724\n",
      "Epoch 20/40\n",
      "60000/60000 [==============================] - 3s 44us/step - loss: 0.0011 - acc: 0.9935 - val_loss: 0.0055 - val_acc: 0.9671\n",
      "Epoch 21/40\n",
      "60000/60000 [==============================] - 3s 43us/step - loss: 0.0011 - acc: 0.9935 - val_loss: 0.0049 - val_acc: 0.9716\n",
      "Epoch 22/40\n",
      "60000/60000 [==============================] - 3s 43us/step - loss: 8.7638e-04 - acc: 0.9949 - val_loss: 0.0050 - val_acc: 0.9700\n",
      "Epoch 23/40\n",
      "60000/60000 [==============================] - 3s 45us/step - loss: 8.2161e-04 - acc: 0.9952 - val_loss: 0.0054 - val_acc: 0.9685\n",
      "Epoch 24/40\n",
      "60000/60000 [==============================] - 3s 44us/step - loss: 9.8374e-04 - acc: 0.9940 - val_loss: 0.0050 - val_acc: 0.9694\n",
      "Epoch 25/40\n",
      "60000/60000 [==============================] - 3s 44us/step - loss: 8.0892e-04 - acc: 0.9952 - val_loss: 0.0051 - val_acc: 0.9691\n",
      "Epoch 26/40\n",
      "60000/60000 [==============================] - 3s 43us/step - loss: 8.0899e-04 - acc: 0.9951 - val_loss: 0.0053 - val_acc: 0.9686\n",
      "Epoch 27/40\n",
      "60000/60000 [==============================] - 3s 44us/step - loss: 7.6617e-04 - acc: 0.9953 - val_loss: 0.0051 - val_acc: 0.9699\n",
      "Epoch 28/40\n",
      "60000/60000 [==============================] - 3s 47us/step - loss: 6.9059e-04 - acc: 0.9959 - val_loss: 0.0050 - val_acc: 0.9709\n",
      "Epoch 29/40\n",
      "60000/60000 [==============================] - 3s 46us/step - loss: 7.7801e-04 - acc: 0.9954 - val_loss: 0.0045 - val_acc: 0.9738\n",
      "Epoch 30/40\n",
      "60000/60000 [==============================] - 3s 45us/step - loss: 7.7445e-04 - acc: 0.9953 - val_loss: 0.0054 - val_acc: 0.9692\n",
      "Epoch 31/40\n",
      "60000/60000 [==============================] - 3s 46us/step - loss: 6.9357e-04 - acc: 0.9960 - val_loss: 0.0065 - val_acc: 0.9616\n",
      "Epoch 32/40\n",
      "60000/60000 [==============================] - 3s 46us/step - loss: 6.8218e-04 - acc: 0.9961 - val_loss: 0.0046 - val_acc: 0.9731\n",
      "Epoch 33/40\n",
      "60000/60000 [==============================] - 3s 47us/step - loss: 6.4879e-04 - acc: 0.9963 - val_loss: 0.0045 - val_acc: 0.9738\n",
      "Epoch 34/40\n",
      "60000/60000 [==============================] - 3s 47us/step - loss: 6.0996e-04 - acc: 0.9965 - val_loss: 0.0048 - val_acc: 0.9721\n",
      "Epoch 35/40\n",
      "60000/60000 [==============================] - 3s 45us/step - loss: 7.2625e-04 - acc: 0.9956 - val_loss: 0.0050 - val_acc: 0.9708\n",
      "Epoch 36/40\n",
      "60000/60000 [==============================] - 3s 46us/step - loss: 6.1823e-04 - acc: 0.9963 - val_loss: 0.0044 - val_acc: 0.9752\n",
      "Epoch 37/40\n",
      "60000/60000 [==============================] - 3s 47us/step - loss: 7.3517e-04 - acc: 0.9957 - val_loss: 0.0044 - val_acc: 0.9747\n",
      "Epoch 38/40\n",
      "60000/60000 [==============================] - 3s 45us/step - loss: 6.7175e-04 - acc: 0.9959 - val_loss: 0.0059 - val_acc: 0.9660\n",
      "Epoch 39/40\n",
      "60000/60000 [==============================] - 3s 47us/step - loss: 6.1150e-04 - acc: 0.9965 - val_loss: 0.0049 - val_acc: 0.9720\n",
      "Epoch 40/40\n",
      "60000/60000 [==============================] - 3s 44us/step - loss: 6.4738e-04 - acc: 0.9963 - val_loss: 0.0049 - val_acc: 0.9723\n"
     ]
    }
   ],
   "source": [
    "model.compile(loss='mse', optimizer = 'adam', metrics = ['accuracy'])\n",
    "reslut = model.fit(x_train, y_train, batch_size=100, epochs=40, verbose=1, validation_data=(x_test, y_test))"
   ]
  },
  {
   "cell_type": "code",
   "execution_count": 39,
   "metadata": {},
   "outputs": [
    {
     "name": "stdout",
     "output_type": "stream",
     "text": [
      "10000/10000 [==============================] - 0s 41us/step\n",
      "loss: 0.004859145569070462\n",
      "accuracy: 0.9723\n"
     ]
    }
   ],
   "source": [
    "score = model.evaluate(x_test, y_test)\n",
    "print('loss:', score[0])\n",
    "print('accuracy:', score[1])"
   ]
  },
  {
   "cell_type": "markdown",
   "metadata": {},
   "source": [
    "## 結論\n",
    "上次的準確率僅有0.93，而這次提高至0.97。"
   ]
  }
 ],
 "metadata": {
  "kernelspec": {
   "display_name": "Python 3",
   "language": "python",
   "name": "python3"
  },
  "language_info": {
   "codemirror_mode": {
    "name": "ipython",
    "version": 3
   },
   "file_extension": ".py",
   "mimetype": "text/x-python",
   "name": "python",
   "nbconvert_exporter": "python",
   "pygments_lexer": "ipython3",
   "version": "3.6.8"
  }
 },
 "nbformat": 4,
 "nbformat_minor": 2
}
