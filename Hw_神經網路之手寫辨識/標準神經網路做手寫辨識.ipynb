{
 "cells": [
  {
   "cell_type": "code",
   "execution_count": 350,
   "metadata": {},
   "outputs": [
    {
     "name": "stdout",
     "output_type": "stream",
     "text": [
      "env: KERAS_BACKEND=tensorflow\n"
     ]
    }
   ],
   "source": [
    "%env KERAS_BACKEND=tensorflow"
   ]
  },
  {
   "cell_type": "code",
   "execution_count": 351,
   "metadata": {},
   "outputs": [],
   "source": [
    "%matplotlib inline\n",
    "import numpy as np\n",
    "import matplotlib.pyplot as plt"
   ]
  },
  {
   "cell_type": "code",
   "execution_count": 352,
   "metadata": {},
   "outputs": [],
   "source": [
    "from keras.datasets import mnist"
   ]
  },
  {
   "cell_type": "code",
   "execution_count": 353,
   "metadata": {},
   "outputs": [],
   "source": [
    "(x_train, y_train),(x_test,y_test) = mnist.load_data()"
   ]
  },
  {
   "cell_type": "code",
   "execution_count": 354,
   "metadata": {},
   "outputs": [
    {
     "data": {
      "text/plain": [
       "60000"
      ]
     },
     "execution_count": 354,
     "metadata": {},
     "output_type": "execute_result"
    }
   ],
   "source": [
    "len(x_train)"
   ]
  },
  {
   "cell_type": "code",
   "execution_count": 355,
   "metadata": {},
   "outputs": [],
   "source": [
    "X = x_train[87]"
   ]
  },
  {
   "cell_type": "code",
   "execution_count": null,
   "metadata": {},
   "outputs": [],
   "source": []
  },
  {
   "cell_type": "code",
   "execution_count": 356,
   "metadata": {},
   "outputs": [
    {
     "data": {
      "text/plain": [
       "(28, 28)"
      ]
     },
     "execution_count": 356,
     "metadata": {},
     "output_type": "execute_result"
    }
   ],
   "source": [
    "X.shape"
   ]
  },
  {
   "cell_type": "code",
   "execution_count": 357,
   "metadata": {},
   "outputs": [
    {
     "data": {
      "text/plain": [
       "<matplotlib.image.AxesImage at 0xb3cd65a58>"
      ]
     },
     "execution_count": 357,
     "metadata": {},
     "output_type": "execute_result"
    },
    {
     "data": {
      "image/png": "[encoded data removed]",
      "text/plain": [
       "<Figure size 432x288 with 1 Axes>"
      ]
     },
     "metadata": {
      "needs_background": "light"
     },
     "output_type": "display_data"
    }
   ],
   "source": [
    "plt.imshow(X, cmap = 'Greys')"
   ]
  },
  {
   "cell_type": "code",
   "execution_count": 358,
   "metadata": {},
   "outputs": [
    {
     "data": {
      "text/plain": [
       "9"
      ]
     },
     "execution_count": 358,
     "metadata": {},
     "output_type": "execute_result"
    }
   ],
   "source": [
    "y_train[87]"
   ]
  },
  {
   "cell_type": "code",
   "execution_count": 359,
   "metadata": {},
   "outputs": [
    {
     "data": {
      "text/plain": [
       "(60000, 28, 28)"
      ]
     },
     "execution_count": 359,
     "metadata": {},
     "output_type": "execute_result"
    }
   ],
   "source": [
    "x_train.shape"
   ]
  },
  {
   "cell_type": "code",
   "execution_count": 360,
   "metadata": {},
   "outputs": [],
   "source": [
    "x_train = x_train.reshape(60000, 784)\n",
    "x_test = x_test.reshape(10000, 784)"
   ]
  },
  {
   "cell_type": "code",
   "execution_count": 361,
   "metadata": {},
   "outputs": [],
   "source": [
    "from keras.utils import np_utils"
   ]
  },
  {
   "cell_type": "code",
   "execution_count": 362,
   "metadata": {},
   "outputs": [
    {
     "data": {
      "text/plain": [
       "array([5, 0, 4, ..., 5, 6, 8], dtype=uint8)"
      ]
     },
     "execution_count": 362,
     "metadata": {},
     "output_type": "execute_result"
    }
   ],
   "source": [
    "y_train"
   ]
  },
  {
   "cell_type": "code",
   "execution_count": 363,
   "metadata": {},
   "outputs": [],
   "source": [
    "y_train = np_utils.to_categorical(y_train, 10)\n",
    "y_test = np_utils.to_categorical(y_test, 10)"
   ]
  },
  {
   "cell_type": "code",
   "execution_count": 364,
   "metadata": {},
   "outputs": [
    {
     "data": {
      "text/plain": [
       "array([0., 0., 0., 0., 0., 0., 0., 0., 0., 1.], dtype=float32)"
      ]
     },
     "execution_count": 364,
     "metadata": {},
     "output_type": "execute_result"
    }
   ],
   "source": [
    "y_train[87]"
   ]
  },
  {
   "cell_type": "code",
   "execution_count": 365,
   "metadata": {},
   "outputs": [],
   "source": [
    "# 開一個學習機\n",
    "from keras.models import Sequential\n",
    "from keras.layers import Dense,Activation\n",
    "from keras.optimizers import SGD"
   ]
  },
  {
   "cell_type": "markdown",
   "metadata": {},
   "source": [
    "### 開啟一個空白的"
   ]
  },
  {
   "cell_type": "code",
   "execution_count": 366,
   "metadata": {},
   "outputs": [],
   "source": [
    "model = Sequential()"
   ]
  },
  {
   "cell_type": "markdown",
   "metadata": {},
   "source": [
    "###  第一層神經元 - 400個"
   ]
  },
  {
   "cell_type": "code",
   "execution_count": 367,
   "metadata": {},
   "outputs": [],
   "source": [
    "model.add(Dense(400,input_dim=784))\n",
    "model.add(Activation('sigmoid'))"
   ]
  },
  {
   "cell_type": "markdown",
   "metadata": {},
   "source": [
    "### 第二層神經元 - 50個"
   ]
  },
  {
   "cell_type": "code",
   "execution_count": 368,
   "metadata": {},
   "outputs": [],
   "source": [
    "model.add(Dense(50))\n",
    "model.add(Activation('sigmoid'))"
   ]
  },
  {
   "cell_type": "markdown",
   "metadata": {},
   "source": [
    "### 第三層神經元 - 60個"
   ]
  },
  {
   "cell_type": "code",
   "execution_count": 369,
   "metadata": {},
   "outputs": [],
   "source": [
    "model.add(Dense(60))\n",
    "model.add(Activation('sigmoid'))"
   ]
  },
  {
   "cell_type": "markdown",
   "metadata": {},
   "source": [
    "### 輸出神經元 - 10個"
   ]
  },
  {
   "cell_type": "code",
   "execution_count": 370,
   "metadata": {},
   "outputs": [],
   "source": [
    "model.add(Dense(10))\n",
    "model.add(Activation('softmax'))"
   ]
  },
  {
   "cell_type": "code",
   "execution_count": 371,
   "metadata": {},
   "outputs": [],
   "source": [
    "model.compile(loss='mse',optimizer=SGD(lr=0.09),metrics=['accuracy'])"
   ]
  },
  {
   "cell_type": "code",
   "execution_count": 372,
   "metadata": {},
   "outputs": [
    {
     "name": "stdout",
     "output_type": "stream",
     "text": [
      "_________________________________________________________________\n",
      "Layer (type)                 Output Shape              Param #   \n",
      "=================================================================\n",
      "dense_67 (Dense)             (None, 400)               314000    \n",
      "_________________________________________________________________\n",
      "activation_67 (Activation)   (None, 400)               0         \n",
      "_________________________________________________________________\n",
      "dense_68 (Dense)             (None, 50)                20050     \n",
      "_________________________________________________________________\n",
      "activation_68 (Activation)   (None, 50)                0         \n",
      "_________________________________________________________________\n",
      "dense_69 (Dense)             (None, 60)                3060      \n",
      "_________________________________________________________________\n",
      "activation_69 (Activation)   (None, 60)                0         \n",
      "_________________________________________________________________\n",
      "dense_70 (Dense)             (None, 10)                610       \n",
      "_________________________________________________________________\n",
      "activation_70 (Activation)   (None, 10)                0         \n",
      "=================================================================\n",
      "Total params: 337,720\n",
      "Trainable params: 337,720\n",
      "Non-trainable params: 0\n",
      "_________________________________________________________________\n"
     ]
    }
   ],
   "source": [
    "model.summary()"
   ]
  },
  {
   "cell_type": "code",
   "execution_count": 373,
   "metadata": {},
   "outputs": [
    {
     "data": {
      "text/plain": [
       "314000"
      ]
     },
     "execution_count": 373,
     "metadata": {},
     "output_type": "execute_result"
    }
   ],
   "source": [
    "400 * 784 + 400"
   ]
  },
  {
   "cell_type": "code",
   "execution_count": 374,
   "metadata": {},
   "outputs": [
    {
     "data": {
      "text/plain": [
       "20050"
      ]
     },
     "execution_count": 374,
     "metadata": {},
     "output_type": "execute_result"
    }
   ],
   "source": [
    "400 * 50 + 50"
   ]
  },
  {
   "cell_type": "code",
   "execution_count": 375,
   "metadata": {},
   "outputs": [
    {
     "data": {
      "text/plain": [
       "30"
      ]
     },
     "execution_count": 375,
     "metadata": {},
     "output_type": "execute_result"
    }
   ],
   "source": [
    "2*10 + 10"
   ]
  },
  {
   "cell_type": "markdown",
   "metadata": {},
   "source": [
    "### 訓練資料：\n",
    "一次100個，80次"
   ]
  },
  {
   "cell_type": "code",
   "execution_count": 376,
   "metadata": {},
   "outputs": [
    {
     "name": "stdout",
     "output_type": "stream",
     "text": [
      "Epoch 1/80\n",
      "60000/60000 [==============================] - 2s 40us/step - loss: 0.0907 - acc: 0.1169\n",
      "Epoch 2/80\n",
      "60000/60000 [==============================] - 2s 35us/step - loss: 0.0895 - acc: 0.1160\n",
      "Epoch 3/80\n",
      "60000/60000 [==============================] - 2s 36us/step - loss: 0.0889 - acc: 0.1185\n",
      "Epoch 4/80\n",
      "60000/60000 [==============================] - 2s 35us/step - loss: 0.0883 - acc: 0.1183\n",
      "Epoch 5/80\n",
      "60000/60000 [==============================] - 2s 36us/step - loss: 0.0874 - acc: 0.1297\n",
      "Epoch 6/80\n",
      "60000/60000 [==============================] - 2s 36us/step - loss: 0.0863 - acc: 0.1822\n",
      "Epoch 7/80\n",
      "60000/60000 [==============================] - 2s 37us/step - loss: 0.0846 - acc: 0.2648\n",
      "Epoch 8/80\n",
      "60000/60000 [==============================] - 2s 37us/step - loss: 0.0826 - acc: 0.3621\n",
      "Epoch 9/80\n",
      "60000/60000 [==============================] - 2s 37us/step - loss: 0.0806 - acc: 0.4340\n",
      "Epoch 10/80\n",
      "60000/60000 [==============================] - 2s 37us/step - loss: 0.0788 - acc: 0.4566\n",
      "Epoch 11/80\n",
      "60000/60000 [==============================] - 2s 37us/step - loss: 0.0772 - acc: 0.4660\n",
      "Epoch 12/80\n",
      "60000/60000 [==============================] - 2s 36us/step - loss: 0.0756 - acc: 0.4666\n",
      "Epoch 13/80\n",
      "60000/60000 [==============================] - 2s 36us/step - loss: 0.0738 - acc: 0.4699\n",
      "Epoch 14/80\n",
      "60000/60000 [==============================] - 2s 36us/step - loss: 0.0716 - acc: 0.4823\n",
      "Epoch 15/80\n",
      "60000/60000 [==============================] - 2s 37us/step - loss: 0.0692 - acc: 0.4967\n",
      "Epoch 16/80\n",
      "60000/60000 [==============================] - 2s 37us/step - loss: 0.0664 - acc: 0.5188\n",
      "Epoch 17/80\n",
      "60000/60000 [==============================] - 2s 37us/step - loss: 0.0635 - acc: 0.5480\n",
      "Epoch 18/80\n",
      "60000/60000 [==============================] - 2s 36us/step - loss: 0.0605 - acc: 0.5819: 1s - l\n",
      "Epoch 19/80\n",
      "60000/60000 [==============================] - 2s 38us/step - loss: 0.0574 - acc: 0.6101\n",
      "Epoch 20/80\n",
      "60000/60000 [==============================] - 2s 38us/step - loss: 0.0543 - acc: 0.6323\n",
      "Epoch 21/80\n",
      "60000/60000 [==============================] - 2s 36us/step - loss: 0.0513 - acc: 0.6480\n",
      "Epoch 22/80\n",
      "60000/60000 [==============================] - 2s 37us/step - loss: 0.0484 - acc: 0.6635\n",
      "Epoch 23/80\n",
      "60000/60000 [==============================] - 2s 38us/step - loss: 0.0457 - acc: 0.6876\n",
      "Epoch 24/80\n",
      "60000/60000 [==============================] - 2s 37us/step - loss: 0.0431 - acc: 0.7189\n",
      "Epoch 25/80\n",
      "60000/60000 [==============================] - 2s 37us/step - loss: 0.0406 - acc: 0.7483\n",
      "Epoch 26/80\n",
      "60000/60000 [==============================] - 2s 37us/step - loss: 0.0382 - acc: 0.7798\n",
      "Epoch 27/80\n",
      "60000/60000 [==============================] - 2s 37us/step - loss: 0.0359 - acc: 0.8074\n",
      "Epoch 28/80\n",
      "60000/60000 [==============================] - 2s 37us/step - loss: 0.0337 - acc: 0.8282\n",
      "Epoch 29/80\n",
      "60000/60000 [==============================] - 2s 37us/step - loss: 0.0316 - acc: 0.8486\n",
      "Epoch 30/80\n",
      "60000/60000 [==============================] - 2s 38us/step - loss: 0.0297 - acc: 0.8625\n",
      "Epoch 31/80\n",
      "60000/60000 [==============================] - 2s 37us/step - loss: 0.0278 - acc: 0.8754\n",
      "Epoch 32/80\n",
      "60000/60000 [==============================] - 2s 36us/step - loss: 0.0261 - acc: 0.8839\n",
      "Epoch 33/80\n",
      "60000/60000 [==============================] - 2s 36us/step - loss: 0.0245 - acc: 0.8907\n",
      "Epoch 34/80\n",
      "60000/60000 [==============================] - 2s 36us/step - loss: 0.0229 - acc: 0.8968\n",
      "Epoch 35/80\n",
      "60000/60000 [==============================] - 2s 36us/step - loss: 0.0215 - acc: 0.9011: 0s - loss: 0.0216 - acc: 0.9\n",
      "Epoch 36/80\n",
      "60000/60000 [==============================] - 2s 36us/step - loss: 0.0203 - acc: 0.9051\n",
      "Epoch 37/80\n",
      "60000/60000 [==============================] - 2s 36us/step - loss: 0.0191 - acc: 0.9091\n",
      "Epoch 38/80\n",
      "60000/60000 [==============================] - 2s 36us/step - loss: 0.0181 - acc: 0.9128\n",
      "Epoch 39/80\n",
      "60000/60000 [==============================] - 2s 36us/step - loss: 0.0171 - acc: 0.9159\n",
      "Epoch 40/80\n",
      "60000/60000 [==============================] - 2s 38us/step - loss: 0.0163 - acc: 0.9189\n",
      "Epoch 41/80\n",
      "60000/60000 [==============================] - 3s 47us/step - loss: 0.0156 - acc: 0.9211\n",
      "Epoch 42/80\n",
      "60000/60000 [==============================] - 2s 41us/step - loss: 0.0149 - acc: 0.9239\n",
      "Epoch 43/80\n",
      "60000/60000 [==============================] - 3s 44us/step - loss: 0.0143 - acc: 0.9261\n",
      "Epoch 44/80\n",
      "60000/60000 [==============================] - 3s 43us/step - loss: 0.0138 - acc: 0.9281\n",
      "Epoch 45/80\n",
      "60000/60000 [==============================] - 2s 37us/step - loss: 0.0133 - acc: 0.9303\n",
      "Epoch 46/80\n",
      "60000/60000 [==============================] - 2s 36us/step - loss: 0.0128 - acc: 0.9321\n",
      "Epoch 47/80\n",
      "60000/60000 [==============================] - 2s 36us/step - loss: 0.0124 - acc: 0.9338\n",
      "Epoch 48/80\n",
      "60000/60000 [==============================] - 2s 34us/step - loss: 0.0120 - acc: 0.9355\n",
      "Epoch 49/80\n",
      "60000/60000 [==============================] - 2s 34us/step - loss: 0.0117 - acc: 0.9375\n",
      "Epoch 50/80\n",
      "60000/60000 [==============================] - 2s 39us/step - loss: 0.0114 - acc: 0.9391\n",
      "Epoch 51/80\n",
      "60000/60000 [==============================] - 2s 38us/step - loss: 0.0110 - acc: 0.9404\n",
      "Epoch 52/80\n",
      "60000/60000 [==============================] - 2s 41us/step - loss: 0.0107 - acc: 0.9421\n",
      "Epoch 53/80\n",
      "60000/60000 [==============================] - 2s 40us/step - loss: 0.0105 - acc: 0.9433\n",
      "Epoch 54/80\n",
      "60000/60000 [==============================] - 2s 42us/step - loss: 0.0102 - acc: 0.9445\n",
      "Epoch 55/80\n",
      "60000/60000 [==============================] - 2s 40us/step - loss: 0.0100 - acc: 0.9454\n",
      "Epoch 56/80\n",
      "60000/60000 [==============================] - 2s 38us/step - loss: 0.0097 - acc: 0.9468\n",
      "Epoch 57/80\n",
      "60000/60000 [==============================] - 2s 37us/step - loss: 0.0095 - acc: 0.9481\n",
      "Epoch 58/80\n",
      "60000/60000 [==============================] - 2s 37us/step - loss: 0.0093 - acc: 0.9492\n",
      "Epoch 59/80\n",
      "60000/60000 [==============================] - 2s 37us/step - loss: 0.0091 - acc: 0.9496\n",
      "Epoch 60/80\n",
      "60000/60000 [==============================] - 2s 37us/step - loss: 0.0089 - acc: 0.9510\n",
      "Epoch 61/80\n",
      "60000/60000 [==============================] - 2s 39us/step - loss: 0.0087 - acc: 0.9519\n",
      "Epoch 62/80\n",
      "60000/60000 [==============================] - 2s 38us/step - loss: 0.0086 - acc: 0.9521\n",
      "Epoch 63/80\n",
      "60000/60000 [==============================] - 2s 38us/step - loss: 0.0084 - acc: 0.9537\n",
      "Epoch 64/80\n",
      "60000/60000 [==============================] - 2s 38us/step - loss: 0.0083 - acc: 0.9542\n",
      "Epoch 65/80\n",
      "60000/60000 [==============================] - 2s 38us/step - loss: 0.0081 - acc: 0.9551\n",
      "Epoch 66/80\n",
      "60000/60000 [==============================] - 2s 38us/step - loss: 0.0080 - acc: 0.9557\n",
      "Epoch 67/80\n",
      "60000/60000 [==============================] - 2s 38us/step - loss: 0.0078 - acc: 0.9566\n",
      "Epoch 68/80\n",
      "60000/60000 [==============================] - 2s 38us/step - loss: 0.0077 - acc: 0.9572: 0s - loss: 0.0076 \n",
      "Epoch 69/80\n",
      "60000/60000 [==============================] - 2s 38us/step - loss: 0.0076 - acc: 0.9578\n",
      "Epoch 70/80\n",
      "60000/60000 [==============================] - 2s 37us/step - loss: 0.0074 - acc: 0.9586\n",
      "Epoch 71/80\n",
      "60000/60000 [==============================] - 2s 37us/step - loss: 0.0073 - acc: 0.9594\n",
      "Epoch 72/80\n",
      "60000/60000 [==============================] - 2s 37us/step - loss: 0.0072 - acc: 0.9599\n",
      "Epoch 73/80\n",
      "60000/60000 [==============================] - 2s 37us/step - loss: 0.0071 - acc: 0.9607\n",
      "Epoch 74/80\n",
      "60000/60000 [==============================] - 2s 37us/step - loss: 0.0070 - acc: 0.9610\n",
      "Epoch 75/80\n",
      "60000/60000 [==============================] - 2s 37us/step - loss: 0.0069 - acc: 0.9615\n",
      "Epoch 76/80\n",
      "60000/60000 [==============================] - 2s 37us/step - loss: 0.0068 - acc: 0.9621\n",
      "Epoch 77/80\n",
      "60000/60000 [==============================] - 2s 37us/step - loss: 0.0067 - acc: 0.9626\n",
      "Epoch 78/80\n",
      "60000/60000 [==============================] - 2s 38us/step - loss: 0.0066 - acc: 0.9631\n",
      "Epoch 79/80\n",
      "60000/60000 [==============================] - 2s 38us/step - loss: 0.0065 - acc: 0.9637\n",
      "Epoch 80/80\n",
      "60000/60000 [==============================] - 2s 38us/step - loss: 0.0064 - acc: 0.9639\n"
     ]
    }
   ],
   "source": [
    "model_first = model.fit(x_train,y_train,batch_size=100,epochs=80)"
   ]
  },
  {
   "cell_type": "code",
   "execution_count": 377,
   "metadata": {},
   "outputs": [
    {
     "data": {
      "image/png": "[encoded data removed]",
      "text/plain": [
       "<Figure size 432x288 with 1 Axes>"
      ]
     },
     "metadata": {
      "needs_background": "light"
     },
     "output_type": "display_data"
    }
   ],
   "source": [
    "plt.plot(model_first.history[\"acc\"])\n",
    "plt.title(\"trainning accuracy\")\n",
    "plt.xlabel(\"epoch\")\n",
    "plt.ylabel(\"accuracy\")\n",
    "plt.legend([\"model\"],loc=\"best\")\n",
    "plt.show()"
   ]
  },
  {
   "cell_type": "code",
   "execution_count": 378,
   "metadata": {},
   "outputs": [],
   "source": [
    "from ipywidgets import interact_manual\n",
    "predict = model.predict_classes(x_test)\n",
    "def test(測試編號):\n",
    "    plt.imshow(x_test[測試編號].reshape(28,28),cmap='Greys')\n",
    "    print('神經網路判斷為：',predict[測試編號])"
   ]
  },
  {
   "cell_type": "code",
   "execution_count": 379,
   "metadata": {},
   "outputs": [
    {
     "data": {
      "application/vnd.jupyter.widget-view+json": {
       "model_id": "6a3aabc8a3c749cb95f85db16dd8d9b1",
       "version_major": 2,
       "version_minor": 0
      },
      "text/plain": [
       "interactive(children=(IntSlider(value=4999, description='測試編號', max=9999), Button(description='Run Interact', …"
      ]
     },
     "metadata": {},
     "output_type": "display_data"
    },
    {
     "data": {
      "text/plain": [
       "<function __main__.test(測試編號)>"
      ]
     },
     "execution_count": 379,
     "metadata": {},
     "output_type": "execute_result"
    }
   ],
   "source": [
    "interact_manual(test,測試編號=(0,9999))"
   ]
  },
  {
   "cell_type": "code",
   "execution_count": 380,
   "metadata": {},
   "outputs": [
    {
     "name": "stdout",
     "output_type": "stream",
     "text": [
      "10000/10000 [==============================] - 1s 55us/step\n"
     ]
    }
   ],
   "source": [
    "score = model.evaluate(x_test,y_test)"
   ]
  },
  {
   "cell_type": "code",
   "execution_count": 382,
   "metadata": {},
   "outputs": [
    {
     "name": "stdout",
     "output_type": "stream",
     "text": [
      "loss: 0.0098045034524519\n",
      "正確率: 0.9366\n"
     ]
    }
   ],
   "source": [
    "print('loss:',score[0])\n",
    "print('正確率:',score[1])"
   ]
  },
  {
   "cell_type": "code",
   "execution_count": null,
   "metadata": {},
   "outputs": [],
   "source": []
  }
 ],
 "metadata": {
  "kernelspec": {
   "display_name": "Python 3",
   "language": "python",
   "name": "python3"
  },
  "language_info": {
   "codemirror_mode": {
    "name": "ipython",
    "version": 3
   },
   "file_extension": ".py",
   "mimetype": "text/x-python",
   "name": "python",
   "nbconvert_exporter": "python",
   "pygments_lexer": "ipython3",
   "version": "3.6.8"
  }
 },
 "nbformat": 4,
 "nbformat_minor": 2
}
