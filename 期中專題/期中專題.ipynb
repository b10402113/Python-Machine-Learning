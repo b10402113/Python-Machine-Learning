{
 "cells": [
  {
   "cell_type": "markdown",
   "metadata": {},
   "source": [
    "# 期中專題題目說明：\n",
    "\n",
    "透過Scrapy爬下104與1111兩大求職網，關於軟體工程師的訊息，整理資料後，輸出成csv檔，並透過numpy分析，市場需求的人"
   ]
  },
  {
   "cell_type": "markdown",
   "metadata": {},
   "source": [
    "# 動機介紹：\n",
    "\n",
    "在104與1111上，刊登許多軟體工程師的職缺，是我經常會上去看的資訊，透過這次機會，我自學了Scrapy來使用爬蟲幫助我將每個職缺的資訊爬下來，不僅ㄧ望無遺，還能自己使用numpy,pandas對這些資料做處理，完全實現了「資料分析」這件事。"
   ]
  },
  {
   "cell_type": "markdown",
   "metadata": {},
   "source": [
    "# 期中專題流程：\n",
    "分為兩個部分，為："
   ]
  },
  {
   "cell_type": "markdown",
   "metadata": {},
   "source": [
    "## ㄧ、爬蟲程式\n",
    "爬蟲程式的部分，由於內容太多，所以我把用Scrapy實現爬蟲的過程寫在Github README檔案中，如下連結，煩請助教、老師一定要查看，我認真寫很久QQ\n",
    "\n",
    "透過Scrapy抓取1111及104的資料：\n",
    "\n",
    "https://github.com/b10402113/Python-Machine-Learning/tree/master/%E6%9C%9F%E4%B8%AD%E5%B0%88%E9%A1%8C\n"
   ]
  },
  {
   "cell_type": "markdown",
   "metadata": {},
   "source": [
    "## 二、資料分析"
   ]
  },
  {
   "cell_type": "code",
   "execution_count": 6,
   "metadata": {},
   "outputs": [],
   "source": [
    "%matplotlib inline\n",
    "import numpy as np\n",
    "import matplotlib.pyplot as plt\n",
    "import pandas as pd"
   ]
  },
  {
   "cell_type": "markdown",
   "metadata": {},
   "source": [
    "### 查看資料型態\n",
    "爬完所需的資料後，我們就可以開始做資料分析了，第一步，查看一下我們資料是否正確"
   ]
  },
  {
   "cell_type": "code",
   "execution_count": 12,
   "metadata": {},
   "outputs": [],
   "source": [
    "df_1111=pd.read_csv(\"file1.csv\")"
   ]
  },
  {
   "cell_type": "code",
   "execution_count": 13,
   "metadata": {},
   "outputs": [],
   "source": [
    "df_104=pd.read_csv(\"file2.csv\")"
   ]
  },
  {
   "cell_type": "code",
   "execution_count": 14,
   "metadata": {},
   "outputs": [
    {
     "data": {
      "text/html": [
       "<div>\n",
       "<style scoped>\n",
       "    .dataframe tbody tr th:only-of-type {\n",
       "        vertical-align: middle;\n",
       "    }\n",
       "\n",
       "    .dataframe tbody tr th {\n",
       "        vertical-align: top;\n",
       "    }\n",
       "\n",
       "    .dataframe thead th {\n",
       "        text-align: right;\n",
       "    }\n",
       "</style>\n",
       "<table border=\"1\" class=\"dataframe\">\n",
       "  <thead>\n",
       "    <tr style=\"text-align: right;\">\n",
       "      <th></th>\n",
       "      <th>job_company</th>\n",
       "      <th>job_date</th>\n",
       "      <th>job_salary</th>\n",
       "      <th>job_title</th>\n",
       "    </tr>\n",
       "  </thead>\n",
       "  <tbody>\n",
       "    <tr>\n",
       "      <th>0</th>\n",
       "      <td>新時代多媒體有限公司</td>\n",
       "      <td>2019-04-18</td>\n",
       "      <td>月薪 50,000~100,000元</td>\n",
       "      <td>網站前端工程師</td>\n",
       "    </tr>\n",
       "    <tr>\n",
       "      <th>1</th>\n",
       "      <td>盈德網絡服務有限公司</td>\n",
       "      <td>2019-04-18</td>\n",
       "      <td>面議（經常性薪資4萬含以上）</td>\n",
       "      <td>5加2_前端網頁開發工程師(JAVA)</td>\n",
       "    </tr>\n",
       "    <tr>\n",
       "      <th>2</th>\n",
       "      <td>宏傑資訊股份有限公司</td>\n",
       "      <td>2019-04-17</td>\n",
       "      <td>面議（經常性薪資4萬含以上）</td>\n",
       "      <td>JSP Web(具PM,SA,PG能力)資深工程師</td>\n",
       "    </tr>\n",
       "    <tr>\n",
       "      <th>3</th>\n",
       "      <td>互聯服務有限公司</td>\n",
       "      <td>2019-04-15</td>\n",
       "      <td>月薪 50,000~60,000元</td>\n",
       "      <td>軟體工程師</td>\n",
       "    </tr>\n",
       "    <tr>\n",
       "      <th>4</th>\n",
       "      <td>碩華資產股份有限公司</td>\n",
       "      <td>2019-04-19</td>\n",
       "      <td>月薪 50,000~70,000元</td>\n",
       "      <td>網頁前端工程師（VUEJS）</td>\n",
       "    </tr>\n",
       "  </tbody>\n",
       "</table>\n",
       "</div>"
      ],
      "text/plain": [
       "  job_company    job_date          job_salary                  job_title\n",
       "0  新時代多媒體有限公司  2019-04-18  月薪 50,000~100,000元                    網站前端工程師\n",
       "1  盈德網絡服務有限公司  2019-04-18      面議（經常性薪資4萬含以上）        5加2_前端網頁開發工程師(JAVA)\n",
       "2  宏傑資訊股份有限公司  2019-04-17      面議（經常性薪資4萬含以上）  JSP Web(具PM,SA,PG能力)資深工程師\n",
       "3    互聯服務有限公司  2019-04-15   月薪 50,000~60,000元                      軟體工程師\n",
       "4  碩華資產股份有限公司  2019-04-19   月薪 50,000~70,000元             網頁前端工程師（VUEJS）"
      ]
     },
     "execution_count": 14,
     "metadata": {},
     "output_type": "execute_result"
    }
   ],
   "source": [
    "df_1111.head()"
   ]
  },
  {
   "cell_type": "code",
   "execution_count": 15,
   "metadata": {},
   "outputs": [
    {
     "data": {
      "text/html": [
       "<div>\n",
       "<style scoped>\n",
       "    .dataframe tbody tr th:only-of-type {\n",
       "        vertical-align: middle;\n",
       "    }\n",
       "\n",
       "    .dataframe tbody tr th {\n",
       "        vertical-align: top;\n",
       "    }\n",
       "\n",
       "    .dataframe thead th {\n",
       "        text-align: right;\n",
       "    }\n",
       "</style>\n",
       "<table border=\"1\" class=\"dataframe\">\n",
       "  <thead>\n",
       "    <tr style=\"text-align: right;\">\n",
       "      <th></th>\n",
       "      <th>job_company</th>\n",
       "      <th>job_date</th>\n",
       "      <th>job_salary</th>\n",
       "      <th>job_title</th>\n",
       "    </tr>\n",
       "  </thead>\n",
       "  <tbody>\n",
       "    <tr>\n",
       "      <th>0</th>\n",
       "      <td>IBM_台灣國際商業機器股份有限公司</td>\n",
       "      <td>NaN</td>\n",
       "      <td>待遇面議</td>\n",
       "      <td>(GBS) Application Developer –Cloud Microservic...</td>\n",
       "    </tr>\n",
       "    <tr>\n",
       "      <th>1</th>\n",
       "      <td>IBM_台灣國際商業機器股份有限公司</td>\n",
       "      <td>NaN</td>\n",
       "      <td>待遇面議</td>\n",
       "      <td>(GBS) Package Solution Consultant - SAP.Hana S...</td>\n",
       "    </tr>\n",
       "    <tr>\n",
       "      <th>2</th>\n",
       "      <td>希格斯資訊科技有限公司</td>\n",
       "      <td>NaN</td>\n",
       "      <td>月薪 48,000~90,000元</td>\n",
       "      <td>全端 (前/後端) 軟體工程師 (.NET C#)</td>\n",
       "    </tr>\n",
       "    <tr>\n",
       "      <th>3</th>\n",
       "      <td>104人力銀行_一零四資訊科技股份有限公司</td>\n",
       "      <td>NaN</td>\n",
       "      <td>待遇面議</td>\n",
       "      <td>資深前端工程師 Sr.Front-End Web Developer (前端工程部)</td>\n",
       "    </tr>\n",
       "    <tr>\n",
       "      <th>4</th>\n",
       "      <td>奇韋系統股份有限公司</td>\n",
       "      <td>NaN</td>\n",
       "      <td>待遇面議</td>\n",
       "      <td>程式設計師   起薪 60,000 起   第 2年 65,000 元起    從不加班  ...</td>\n",
       "    </tr>\n",
       "  </tbody>\n",
       "</table>\n",
       "</div>"
      ],
      "text/plain": [
       "             job_company job_date         job_salary  \\\n",
       "0     IBM_台灣國際商業機器股份有限公司      NaN               待遇面議   \n",
       "1     IBM_台灣國際商業機器股份有限公司      NaN               待遇面議   \n",
       "2            希格斯資訊科技有限公司      NaN  月薪 48,000~90,000元   \n",
       "3  104人力銀行_一零四資訊科技股份有限公司      NaN               待遇面議   \n",
       "4             奇韋系統股份有限公司      NaN               待遇面議   \n",
       "\n",
       "                                           job_title  \n",
       "0  (GBS) Application Developer –Cloud Microservic...  \n",
       "1  (GBS) Package Solution Consultant - SAP.Hana S...  \n",
       "2                          全端 (前/後端) 軟體工程師 (.NET C#)  \n",
       "3         資深前端工程師 Sr.Front-End Web Developer (前端工程部)  \n",
       "4  程式設計師   起薪 60,000 起   第 2年 65,000 元起    從不加班  ...  "
      ]
     },
     "execution_count": 15,
     "metadata": {},
     "output_type": "execute_result"
    }
   ],
   "source": [
    "df_104.head()"
   ]
  },
  {
   "cell_type": "code",
   "execution_count": 19,
   "metadata": {},
   "outputs": [],
   "source": [
    "# 因為資料有NaN，所以先把資料不齊全的刪掉\n",
    "df_104_1 = df_104.dropna()"
   ]
  },
  {
   "cell_type": "code",
   "execution_count": 20,
   "metadata": {},
   "outputs": [
    {
     "data": {
      "text/html": [
       "<div>\n",
       "<style scoped>\n",
       "    .dataframe tbody tr th:only-of-type {\n",
       "        vertical-align: middle;\n",
       "    }\n",
       "\n",
       "    .dataframe tbody tr th {\n",
       "        vertical-align: top;\n",
       "    }\n",
       "\n",
       "    .dataframe thead th {\n",
       "        text-align: right;\n",
       "    }\n",
       "</style>\n",
       "<table border=\"1\" class=\"dataframe\">\n",
       "  <thead>\n",
       "    <tr style=\"text-align: right;\">\n",
       "      <th></th>\n",
       "      <th>job_company</th>\n",
       "      <th>job_date</th>\n",
       "      <th>job_salary</th>\n",
       "      <th>job_title</th>\n",
       "    </tr>\n",
       "  </thead>\n",
       "  <tbody>\n",
       "    <tr>\n",
       "      <th>10</th>\n",
       "      <td>小北百貨有限公司</td>\n",
       "      <td>4/19</td>\n",
       "      <td>月薪 24,100元</td>\n",
       "      <td>台南區-資訊部-資訊組員</td>\n",
       "    </tr>\n",
       "    <tr>\n",
       "      <th>11</th>\n",
       "      <td>極限科技股份有限公司</td>\n",
       "      <td>4/19</td>\n",
       "      <td>待遇面議</td>\n",
       "      <td>Android 開發工程師</td>\n",
       "    </tr>\n",
       "    <tr>\n",
       "      <th>12</th>\n",
       "      <td>極限科技股份有限公司</td>\n",
       "      <td>4/19</td>\n",
       "      <td>月薪 30,000~39,999元</td>\n",
       "      <td>網站前端工程師A</td>\n",
       "    </tr>\n",
       "    <tr>\n",
       "      <th>13</th>\n",
       "      <td>極限科技股份有限公司</td>\n",
       "      <td>4/19</td>\n",
       "      <td>待遇面議</td>\n",
       "      <td>iOS 開發工程師</td>\n",
       "    </tr>\n",
       "    <tr>\n",
       "      <th>14</th>\n",
       "      <td>極限科技股份有限公司</td>\n",
       "      <td>4/19</td>\n",
       "      <td>待遇面議</td>\n",
       "      <td>網站前端工程師B</td>\n",
       "    </tr>\n",
       "  </tbody>\n",
       "</table>\n",
       "</div>"
      ],
      "text/plain": [
       "   job_company job_date         job_salary      job_title\n",
       "10    小北百貨有限公司     4/19         月薪 24,100元   台南區-資訊部-資訊組員\n",
       "11  極限科技股份有限公司     4/19               待遇面議  Android 開發工程師\n",
       "12  極限科技股份有限公司     4/19  月薪 30,000~39,999元       網站前端工程師A\n",
       "13  極限科技股份有限公司     4/19               待遇面議      iOS 開發工程師\n",
       "14  極限科技股份有限公司     4/19               待遇面議       網站前端工程師B"
      ]
     },
     "execution_count": 20,
     "metadata": {},
     "output_type": "execute_result"
    }
   ],
   "source": [
    "df_104_1.head()"
   ]
  },
  {
   "cell_type": "markdown",
   "metadata": {},
   "source": [
    "接下來，讓我們把兩間公司的人數做個分類"
   ]
  },
  {
   "cell_type": "code",
   "execution_count": 59,
   "metadata": {},
   "outputs": [],
   "source": [
    "# 104的公司\n",
    "labels = 'ios','android','frontEnd','System','Python','java','backEnd','Game','Php','alogorthm'\n",
    "ios_count = df_104_1[df_104_1.job_title.str.contains('iOS')].job_company.count()\n",
    "android_count = df_104_1[df_104_1.job_title.str.contains('Android')].job_company.count()\n",
    "frontEnd_count = df_104_1[df_104_1.job_title.str.contains('前端')].job_company.count()\n",
    "System_count = df_104_1[df_104_1.job_title.str.contains('系統')].job_company.count()\n",
    "Python_count = df_104_1[df_104_1.job_title.str.contains('Python')].job_company.count()\n",
    "java_count = df_104_1[df_104_1.job_title.str.contains('Java')].job_company.count()\n",
    "backEnd_count = df_104_1[df_104_1.job_title.str.contains('後端')].job_company.count()\n",
    "Game_count = df_104_1[df_104_1.job_title.str.contains('遊戲')].job_company.count()\n",
    "Php_count = df_104_1[df_104_1.job_title.str.contains('PHP')].job_company.count()\n",
    "alogorthm_count = df_104_1[df_104_1.job_title.str.contains('演算法')].job_company.count()"
   ]
  },
  {
   "cell_type": "code",
   "execution_count": 60,
   "metadata": {},
   "outputs": [],
   "source": [
    "size = [ios_count,android_count,frontEnd_count,System_count,Python_count,java_count,backEnd_count,Game_count,Php_count,alogorthm_count]"
   ]
  },
  {
   "cell_type": "code",
   "execution_count": 62,
   "metadata": {},
   "outputs": [
    {
     "data": {
      "image/png": "[encoded data removed]",
      "text/plain": [
       "<Figure size 432x288 with 1 Axes>"
      ]
     },
     "metadata": {},
     "output_type": "display_data"
    }
   ],
   "source": [
    "plt.pie(size , labels = labels,autopct='%1.1f%%');"
   ]
  },
  {
   "cell_type": "markdown",
   "metadata": {},
   "source": [
    "可見104招募最多的是系統工程師，次多的是Java那麼104呢？"
   ]
  },
  {
   "cell_type": "code",
   "execution_count": 68,
   "metadata": {},
   "outputs": [],
   "source": [
    "# 1111的公司\n",
    "one_labels = 'ios','android','frontEnd','System','Python','java','backEnd','Game','Php','alogorthm'\n",
    "one_ios_count = df_1111[df_1111.job_title.str.contains('iOS')].job_company.count()\n",
    "one_android_count = df_1111[df_1111.job_title.str.contains('Android')].job_company.count()\n",
    "one_frontEnd_count = df_1111[df_1111.job_title.str.contains('前端')].job_company.count()\n",
    "one_System_count = df_1111[df_1111.job_title.str.contains('系統')].job_company.count()\n",
    "one_Python_count = df_1111[df_1111.job_title.str.contains('Python')].job_company.count()\n",
    "one_java_count = df_1111[df_1111.job_title.str.contains('Java')].job_company.count()\n",
    "one_backEnd_count = df_1111[df_1111.job_title.str.contains('後端')].job_company.count()\n",
    "one_Game_count = df_1111[df_1111.job_title.str.contains('遊戲')].job_company.count()\n",
    "one_Php_count = df_1111[df_1111.job_title.str.contains('PHP')].job_company.count()\n",
    "one_alogorthm_count = df_1111[df_1111.job_title.str.contains('演算法')].job_company.count()\n",
    "size = [one_ios_count,one_android_count,one_frontEnd_count,one_System_count,one_Python_count,one_java_count,one_backEnd_count,one_Game_count,one_Php_count,one_alogorthm_count]"
   ]
  },
  {
   "cell_type": "code",
   "execution_count": 69,
   "metadata": {},
   "outputs": [
    {
     "data": {
      "image/png": "[encoded data removed]",
      "text/plain": [
       "<Figure size 432x288 with 1 Axes>"
      ]
     },
     "metadata": {},
     "output_type": "display_data"
    }
   ],
   "source": [
    "plt.pie(size , labels = labels,autopct='%1.1f%%');"
   ]
  },
  {
   "cell_type": "markdown",
   "metadata": {},
   "source": [
    "在1111中，系統還是佔最多，但次多的則是前端工程"
   ]
  },
  {
   "cell_type": "code",
   "execution_count": null,
   "metadata": {},
   "outputs": [],
   "source": []
  },
  {
   "cell_type": "code",
   "execution_count": null,
   "metadata": {},
   "outputs": [],
   "source": []
  }
 ],
 "metadata": {
  "kernelspec": {
   "display_name": "Python 3",
   "language": "python",
   "name": "python3"
  },
  "language_info": {
   "codemirror_mode": {
    "name": "ipython",
    "version": 3
   },
   "file_extension": ".py",
   "mimetype": "text/x-python",
   "name": "python",
   "nbconvert_exporter": "python",
   "pygments_lexer": "ipython3",
   "version": "3.6.8"
  }
 },
 "nbformat": 4,
 "nbformat_minor": 2
}
