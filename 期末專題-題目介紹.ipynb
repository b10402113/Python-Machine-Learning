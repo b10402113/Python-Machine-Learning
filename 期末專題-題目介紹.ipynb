{
 "cells": [
  {
   "cell_type": "markdown",
   "metadata": {},
   "source": [
    "## 題目名稱： 世界十大知名地標之辨識"
   ]
  },
  {
   "cell_type": "markdown",
   "metadata": {},
   "source": [
    "### 因為自己很喜歡攝影的關係，我很喜歡世界上各地的風景，剛好透過這個機會，我希望能實現出以下十大知名地標的圖片辨識：\n",
    "1. 美國-自由女神像\n",
    "2. 法國-埃菲爾鐵塔\n",
    "3. 英國-大笨鐘\n",
    "4. 中國-萬裡長城\n",
    "5. 俄羅斯-莫斯科紅場\n",
    "6. 義大利-比薩斜塔\n",
    "7. 印度-泰姬陵\n",
    "8. 荷蘭—風車\n",
    "9. 巴西-救世主耶穌基督像\n",
    "10. 台灣-台北101"
   ]
  },
  {
   "cell_type": "markdown",
   "metadata": {},
   "source": [
    "#### Input:\n",
    "- 某張包含十大地標其中之一的照片\n",
    "#### Output:\n",
    "- 照片所屬的地區\n",
    "#### 資料來源：\n",
    "- 透過爬蟲爬下flickr上地標的圖片"
   ]
  },
  {
   "cell_type": "markdown",
   "metadata": {},
   "source": [
    "### 延伸應用\n",
    "#### 因為幫照片分類是很累人的一件事，因此如果有模型能幫助我們將拍攝完的照片分類，那將會省時又省力，若這個專題製作成功的話，是否代表我們也能將自己常拍的照片劃分為幾個類型，而之後只要拍完照片就能直接讓電腦進行分類，達到自動化的效果"
   ]
  }
 ],
 "metadata": {
  "kernelspec": {
   "display_name": "Python 3",
   "language": "python",
   "name": "python3"
  },
  "language_info": {
   "codemirror_mode": {
    "name": "ipython",
    "version": 3
   },
   "file_extension": ".py",
   "mimetype": "text/x-python",
   "name": "python",
   "nbconvert_exporter": "python",
   "pygments_lexer": "ipython3",
   "version": "3.6.8"
  }
 },
 "nbformat": 4,
 "nbformat_minor": 2
}
