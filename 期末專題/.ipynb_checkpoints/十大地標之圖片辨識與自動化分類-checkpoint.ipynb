{
 "cells": [
  {
   "cell_type": "markdown",
   "metadata": {},
   "source": [
    "\n",
    "## <font color=#0099ff size=7 face=\"黑体\">期末專題 - 十大地標之圖片辨識與自動化分類</font>\n",
    "\n",
    "\n"
   ]
  },
  {
   "cell_type": "markdown",
   "metadata": {},
   "source": [
    "<font color=#1a2933 size=5 face=\"黑体\"> 成員分工 </font>\n",
    " <font color=#1a2933 size=4 face=\"黑体\">\n",
    "    \n",
    "* 鄭和軒 資料蒐集、資料處理、報告撰寫、訓練模型、測試資料、資料分類與影片展示\n",
    "\n",
    "* 張廷豪 流程討論、資料處理、時程規劃\n",
    "\n",
    "* 陳思妤 資料蒐集、資料處理\n",
    "\n"
   ]
  },
  {
   "cell_type": "markdown",
   "metadata": {},
   "source": [
    "<font color=#1a2933 size=6 face=\"黑体\">一、動機與目標\n",
    "    \n",
    "<font color=#1a2933 size=4 face=\"黑体\"> 我們是一群喜歡在各地旅遊的大學生，因此希望透過人工智慧的CNN卷積網路辨識，學習怎麼幫圖片做分類，因此我們先從小做起，挑了十大我們喜歡的地標，做成一個model，並自動去識別example資料夾的每一張風景圖，如果辨識率大於90%，我們則將他分類到該類型圖片的資料夾，反之，我們則分類到「other」資料夾。\n",
    "\n",
    "\n",
    "\n",
    "\n",
    " <font color=#1a2933 size=4 face=\"黑体\">\n",
    " \n",
    " ## 以下為十大地標：\n",
    "  \n",
    " <font color=#1a2933 size=4 face=\"黑体\">\n",
    "\n",
    "* 美國-自由女神像\n",
    "* 法國-埃菲爾鐵塔\n",
    "* 英國-大笨鐘\n",
    "* 中國-萬里長城\n",
    "* 俄羅斯-莫斯科紅場\n",
    "* 義大利-比薩斜塔\n",
    "* 印度-泰姬陵\n",
    "* 英國—巨石陣\n",
    "* 巴西-救世主耶穌基督像\n",
    "* 台灣-台北101\n",
    "\n"
   ]
  },
  {
   "cell_type": "markdown",
   "metadata": {},
   "source": [
    "<font color=#1a2933 size=6 face=\"黑体\">二、輸入與輸出</font>"
   ]
  },
  {
   "cell_type": "markdown",
   "metadata": {},
   "source": [
    " <font color=#0099ff size=5 face=\"黑体\"> \n",
    "* 輸入\n",
    "</font>\n",
    "\n",
    "<font color=#1a2933 size=3 face=\"黑体\"> \n",
    "多張圖片，圖片格式不拘\n",
    "</font>\n",
    "\n",
    " <font color=#0099ff size=5 face=\"黑体\"> \n",
    "* 輸出\n",
    "</font>\n",
    "\n",
    "<font color=#1a2933 size=3 face=\"黑体\"> \n",
    "將每一張圖片分類至屬於該地標的資料夾\n",
    "</font>\n",
    "\n",
    "## 範例：\n",
    "<font color=#1a2933 size=3 face=\"黑体\"> \n",
    "\n",
    "輸入：\n",
    "000011.jpeg 為（自由女神）的圖片\n",
    "\n",
    "輸出：\n",
    "* 辨識為自由女神->分類至自由女神的資料夾\n",
    "* 若辨識率<90%-> 分類至other資料夾\n",
    "</font>\n"
   ]
  },
  {
   "cell_type": "markdown",
   "metadata": {},
   "source": [
    "<font color=#1a2933  size=6 face=\"黑体\">三、實作流程</font>\n",
    "\n"
   ]
  },
  {
   "cell_type": "markdown",
   "metadata": {},
   "source": [
    "![](https://i.imgur.com/9uKvdcN.jpg)"
   ]
  },
  {
   "cell_type": "markdown",
   "metadata": {},
   "source": [
    "## --"
   ]
  },
  {
   "cell_type": "markdown",
   "metadata": {},
   "source": [
    "\n",
    " <font color=#1a2933 size=5 face=\"黑体\"> \n",
    "執行的流程分為以下四個檔案，第四個檔案中包含了最後執行的成果。\n"
   ]
  },
  {
   "cell_type": "markdown",
   "metadata": {},
   "source": [
    " <font color=#1a2933 size=4 face=\"黑体\"> \n",
    "    \n",
    "model與dataset因為檔案太大的關係，我並沒有上傳到github，我上傳到了雲端硬碟，需要可以查看：\n",
    "\n",
    " <font color=#1a2933 size=4 face=\"黑体\"> \n",
    "[所有model與dataset](https://pse.is/JEMMY)"
   ]
  },
  {
   "cell_type": "markdown",
   "metadata": {},
   "source": [
    " <font color=#1a2933 size=5 face=\"黑体\"> \n",
    "    \n",
    "* [Step1＿蒐集資料](https://nbviewer.jupyter.org/github/b10402113/Python-Machine-Learning/blob/master/%E6%9C%9F%E6%9C%AB%E5%B0%88%E9%A1%8C/%E6%AD%A5%E9%A9%9F%E3%84%A7_%E8%B3%87%E6%96%99%E8%92%90%E9%9B%86.ipynb)"
   ]
  },
  {
   "cell_type": "markdown",
   "metadata": {},
   "source": [
    " <font color=#1a2933 size=5 face=\"黑体\"> \n",
    "    \n",
    "* [Step2＿建立資料集](https://nbviewer.jupyter.org/github/b10402113/Python-Machine-Learning/blob/master/%E6%9C%9F%E6%9C%AB%E5%B0%88%E9%A1%8C/%E6%AD%A5%E9%A9%9F%E4%BA%8C_%E5%BB%BA%E7%AB%8B%E8%B3%87%E6%96%99%E9%9B%86.ipynb)"
   ]
  },
  {
   "cell_type": "markdown",
   "metadata": {},
   "source": [
    " <font color=#1a2933 size=5 face=\"黑体\"> \n",
    "    \n",
    "* [Step3＿訓練模型](https://pse.is/GHH8C)"
   ]
  },
  {
   "cell_type": "markdown",
   "metadata": {},
   "source": [
    " <font color=#1a2933 size=5 face=\"黑体\"> \n",
    "    \n",
    "* [Step4＿測試資料與資料分類 & 成果展示](https://pse.is/JR449)"
   ]
  },
  {
   "cell_type": "markdown",
   "metadata": {},
   "source": [
    "<font color=#1a2933  size=6 face=\"黑体\">四、影片展示</font>\n"
   ]
  },
  {
   "cell_type": "markdown",
   "metadata": {},
   "source": [
    " <font color=#1a2933 size=4 face=\"黑体\"> \n",
    "我採用了影片來進行Demo，讓大家能更方便看到整個流程，與圖片分類的部分"
   ]
  },
  {
   "cell_type": "markdown",
   "metadata": {},
   "source": [
    " <font color=#1a2933 size=6 face=\"黑体\"> \n",
    "[影片DEMO](https://pse.is/JLVD5)"
   ]
  },
  {
   "cell_type": "markdown",
   "metadata": {},
   "source": [
    "<font color=#1a2933  size=6 face=\"黑体\">五、心得與未來展望</font>\n",
    "\n"
   ]
  },
  {
   "cell_type": "markdown",
   "metadata": {},
   "source": [
    "<font color=#1a2933  size=4 face=\"黑体\">\n",
    "    還記得當我們看到圖片比對率高達99%時那種興奮與感動，坦白說我們還算是菜鳥，許多參數查看網路給的參數，但從資料蒐集，資料處理，資料訓練到資料輸出、做出一個真正的能夠幫圖片自動分類的功能時，我們是非常有成就感的，因為如此一來，因此在未來，我們可以將它換成，「風景」、「人像」、「物品」、「團體照」等分類時，我之後在攝影時拍的照片都不需要自己手動分類，只要透過這個model，就能分到所屬資料夾。\n",
    "\n"
   ]
  },
  {
   "cell_type": "markdown",
   "metadata": {},
   "source": [
    "<font color=#1a2933  size=4 face=\"黑体\">        \n",
    "    這次最大的困難是，準確率到達80%後就無法再上升，後來我才發現原因，因為我們從flickr上下載的圖片不一定百分之百每張都是正確的（但應該有95%），畢竟一個地標就有1000張圖片，沒有時間去一一檢查1萬張圖，所以當資料不完全正確時，準確率當然也會受到影響，總而言之，CNN網路還有許多我們尚未摸索的地方，透過這次期末專題我們學到了非常多人工智慧的套件使用與python自動化，更引起了我們對於AI的興趣，最想要感謝老師與助教親切的指導、教學，這真的是我們非常喜歡的一門Python課！"
   ]
  }
 ],
 "metadata": {
  "kernelspec": {
   "display_name": "Python 3",
   "language": "python",
   "name": "python3"
  },
  "language_info": {
   "codemirror_mode": {
    "name": "ipython",
    "version": 3
   },
   "file_extension": ".py",
   "mimetype": "text/x-python",
   "name": "python",
   "nbconvert_exporter": "python",
   "pygments_lexer": "ipython3",
   "version": "3.6.8"
  }
 },
 "nbformat": 4,
 "nbformat_minor": 2
}
