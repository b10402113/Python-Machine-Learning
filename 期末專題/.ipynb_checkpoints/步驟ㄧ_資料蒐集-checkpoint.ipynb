{
 "cells": [
  {
   "cell_type": "markdown",
   "metadata": {},
   "source": [
    "\n",
    "## <font color=#0099ff size=6 face=\"黑体\">步驟一 - 資料蒐集</font>\n"
   ]
  },
  {
   "cell_type": "markdown",
   "metadata": {},
   "source": [
    "<font color=#1a2933  size=3 face=\"黑体\">\n",
    "在我們將圖片都加入到dataset之後，我們即可開始把資料集的圖片做處理，目標是將每張圖片標準化及使用open-cv將圖片轉為array再存起來，方便之後訓練model。\n",
    "</font>\n",
    "\n",
    "<font color=#1a2933  size=5 face=\"黑体\">一、引入必須套件</font>"
   ]
  },
  {
   "cell_type": "code",
   "execution_count": 4,
   "metadata": {},
   "outputs": [],
   "source": [
    "import flickrapi\n",
    "import urllib.request\n",
    "from PIL import Image\n",
    "import time"
   ]
  },
  {
   "cell_type": "markdown",
   "metadata": {},
   "source": [
    "\n",
    "\n",
    "<font color=#1a2933  size=5 face=\"黑体\">二、Flickr-API</font>\n",
    "\n",
    "<font color=#1a2933  size=3 face=\"黑体\">\n",
    "    \n",
    "    \n",
    "透過FlickrAPI我們可以去下載flickr的照片\n"
   ]
  },
  {
   "cell_type": "code",
   "execution_count": 5,
   "metadata": {},
   "outputs": [],
   "source": [
    "flickr=flickrapi.FlickrAPI('59c4055ade442b1dd9bd7ca8c6504ddd', 'fbc773f878cb996c', cache=True)"
   ]
  },
  {
   "cell_type": "code",
   "execution_count": 6,
   "metadata": {},
   "outputs": [
    {
     "name": "stdout",
     "output_type": "stream",
     "text": [
      "statue_of_liberty\n",
      "Eiffel_tower\n",
      "Big_Ben\n",
      "The_Great_Wall\n",
      "Red_Square\n",
      "Leaning_Tower_of_Pisa\n",
      "Taj_Mahal\n",
      "Cristo_Redentor\n",
      "Stonehenge\n",
      "taipei_101\n"
     ]
    }
   ],
   "source": [
    "keywords = ['statue of liberty','Eiffel tower','Big Ben','The Great Wall','Red Square',\n",
    "           'Leaning Tower of Pisa','Taj Mahal','Cristo Redentor','Stonehenge','taipei 101']\n",
    "\n",
    "# 對keywords的檔名進行處理，因為檔名不能有空格\n",
    "\n",
    "for keyword in keywords:\n",
    "    print(keyword.replace(' ','_'))"
   ]
  },
  {
   "cell_type": "markdown",
   "metadata": {},
   "source": [
    "<font color=#1a2933  size=3 face=\"黑体\">\n",
    "    \n",
    "只要給適當的keyword，flickr.walk會去將flickr的圖片資料存入photos中\n"
   ]
  },
  {
   "cell_type": "code",
   "execution_count": 7,
   "metadata": {},
   "outputs": [],
   "source": [
    "for keyword in keywords:\n",
    "    photos = flickr.walk(text=keyword,tag_mode='all',tags=keyword,extras='url_c',per_page=100,sort='relevance')\n",
    "    urls = []\n",
    "    num = 0\n",
    "    for i, photo in enumerate(photos):\n",
    "        url = photo.get('url_c')\n",
    "        if(url != None):\n",
    "            urls.append(url)\n",
    "            num = num + 1\n",
    "            # 當圖片數量大於1100時，則停止下載圖片\n",
    "            if num > 1100:\n",
    "                break\n",
    "        # 因為避免過於頻繁請求，讓系統停一下再繼續抓取\n",
    "        time.sleep(0.001)\n",
    "    j = 0\n",
    "    for i in range(0,len(urls)):\n",
    "        if(urls[i] != None):\n",
    "            j = j + 1\n",
    "            urllib.request.urlretrieve(urls[i], keyword.replace(' ','_')+'_000'+str(j)+'.jpg')\n",
    "            # Resize the image and overwrite it\n",
    "            image = Image.open(keyword.replace(' ','_')+'_000'+str(j)+'.jpg') \n",
    "            image = image.resize((256, 256), Image.ANTIALIAS)\n",
    "            image.save(keyword.replace(' ','_')+'_000'+str(j)+'.jpg')"
   ]
  },
  {
   "cell_type": "markdown",
   "metadata": {},
   "source": [
    "# 結論\n",
    "\n",
    "<font color=#1a2933  size=5 face=\"黑体\">三、 小結</font>\n",
    "\n",
    "<font color=#1a2933  size=3 face=\"黑体\">當爬完資料後，做完分類，就得到如下圖的資料了！</font>\n",
    "![](https://i.imgur.com/KYL3Di8.png)"
   ]
  },
  {
   "cell_type": "code",
   "execution_count": null,
   "metadata": {},
   "outputs": [],
   "source": []
  }
 ],
 "metadata": {
  "kernelspec": {
   "display_name": "Python 3",
   "language": "python",
   "name": "python3"
  },
  "language_info": {
   "codemirror_mode": {
    "name": "ipython",
    "version": 3
   },
   "file_extension": ".py",
   "mimetype": "text/x-python",
   "name": "python",
   "nbconvert_exporter": "python",
   "pygments_lexer": "ipython3",
   "version": "3.6.8"
  }
 },
 "nbformat": 4,
 "nbformat_minor": 2
}
