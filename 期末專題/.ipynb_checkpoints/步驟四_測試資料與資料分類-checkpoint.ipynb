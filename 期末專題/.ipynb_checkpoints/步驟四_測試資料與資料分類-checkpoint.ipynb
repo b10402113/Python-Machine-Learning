{
 "cells": [
  {
   "cell_type": "markdown",
   "metadata": {},
   "source": [
    "\n",
    "## <font color=#0099ff size=6 face=\"黑体\">步驟四 - 測試資料與資料分類</font>"
   ]
  },
  {
   "cell_type": "markdown",
   "metadata": {},
   "source": [
    "<font color=#1a2933  size=3 face=\"黑体\">\n",
    "已經取得模型後，我們就能開始測試資料囉！\n",
    "</font>\n",
    "\n",
    "<font color=#1a2933  size=5 face=\"黑体\">一、引入必須套件（跟以前ㄧ樣）</font>"
   ]
  },
  {
   "cell_type": "code",
   "execution_count": 375,
   "metadata": {},
   "outputs": [],
   "source": [
    "from keras.preprocessing.image import img_to_array\n",
    "from keras.models import load_model\n",
    "import numpy as np\n",
    "import argparse\n",
    "import imutils\n",
    "import pickle\n",
    "import cv2\n",
    "import os\n"
   ]
  },
  {
   "cell_type": "markdown",
   "metadata": {},
   "source": [
    "<font color=#1a2933  size=5 face=\"黑体\">二、新增Examples資料夾，其中放任意十大美景之圖片</font>\n"
   ]
  },
  {
   "cell_type": "markdown",
   "metadata": {},
   "source": [
    "<font color=#1a2933  size=5 face=\"黑体\">三、導入圖片、model，圖片修正</font>\n",
    "\n",
    "<font color=#1a2933  size=3 face=\"黑体\">\n",
    "    \n",
    "當我們輸入一個圖片時，我們需要將他resize才能去與model內的檔案比較，因此我們還是使用cv2來對圖片做處理\n",
    "</font>\n"
   ]
  },
  {
   "cell_type": "code",
   "execution_count": 376,
   "metadata": {},
   "outputs": [],
   "source": [
    "# 將model引入\n",
    "model = load_model('tlc.model')\n",
    "lb = pickle.loads(open('lb.pickle', \"rb\").read())"
   ]
  },
  {
   "cell_type": "code",
   "execution_count": 383,
   "metadata": {},
   "outputs": [],
   "source": [
    "# 引入imutils 的paht，他可以幫我們把所有的圖片之檔名列出\n",
    "from imutils import paths\n",
    "# imagePaths存取examples目錄下所有的檔案名稱\n",
    "imagePaths = sorted(list(paths.list_images(\"examples\")))"
   ]
  },
  {
   "cell_type": "code",
   "execution_count": 384,
   "metadata": {},
   "outputs": [
    {
     "name": "stdout",
     "output_type": "stream",
     "text": [
      "examples/1.jpeg\n",
      "examples/10.jpg\n",
      "examples/11.jpeg\n",
      "examples/12.jpeg\n",
      "examples/13.jpg\n",
      "examples/14.jpeg\n",
      "examples/15.jpeg\n",
      "examples/2.jpg\n",
      "examples/3.jpeg\n",
      "examples/4.jpg\n",
      "examples/5.jpeg\n",
      "examples/6.jpeg\n",
      "examples/7.jpg\n",
      "examples/8.jpeg\n",
      "examples/9.jpeg\n",
      "examples/下載.jpeg\n",
      "examples/其他.jpeg\n",
      "examples/教堂.jpeg\n"
     ]
    }
   ],
   "source": [
    "imgNames = []\n",
    "images = []\n",
    "for imgpath in imagePaths:\n",
    "    print(imgpath)\n",
    "    imgNames.append(imgpath)   \n",
    "    image = cv2.imread(imgpath)\n",
    "    output = image.copy()\n",
    "    image = cv2.resize(image, (96, 96))\n",
    "    image = image.astype(\"float\") / 255.0\n",
    "    image = img_to_array(image)\n",
    "    image = np.expand_dims(image, axis=0)\n",
    "    images.append(image)"
   ]
  },
  {
   "cell_type": "markdown",
   "metadata": {},
   "source": [
    "<font color=#1a2933  size=5 face=\"黑体\">四、為圖片進行分類（End)</font>\n",
    "\n",
    "<font color=#1a2933  size=3 face=\"黑体\">\n",
    "    \n",
    "當圖片比對率超過95時，我們即將他加入該地標的資料夾，不然則加入Other的資料夾。以下為原本examples下的圖片，為打亂順序的樣子\n",
    "</font>\n"
   ]
  },
  {
   "cell_type": "markdown",
   "metadata": {},
   "source": [
    "![](https://i.imgur.com/TpfiiKW.png)"
   ]
  },
  {
   "cell_type": "code",
   "execution_count": 385,
   "metadata": {},
   "outputs": [
    {
     "name": "stdout",
     "output_type": "stream",
     "text": [
      "檔案存在。\n",
      "檔案存在。\n",
      "檔案存在。\n",
      "檔案存在。\n"
     ]
    }
   ],
   "source": [
    "for i,image in enumerate(images):\n",
    "    # proba為此照片與十大美景中的每一個的相似度\n",
    "    proba = model.predict(image)[0]\n",
    "    idx = np.argmax(proba)\n",
    "    # label為此圖片最相近的名稱\n",
    "    label = lb.classes_[idx]\n",
    "    filepath = os.getcwd()+'/'+imgNames[i]\n",
    "    \n",
    "    # 如果比對後，配對率超過95%\n",
    "    if((proba[idx] * 100) > 90):\n",
    "        if os.path.isdir(\"examples/\"+label):\n",
    "            # 如果目錄存在就移動到當前目錄\n",
    "            shutil.move(filepath, os.getcwd()+'/examples/'+label)\n",
    "        else:\n",
    "            # 否則創立目錄\n",
    "            os.mkdir(\"examples/\"+label)\n",
    "            shutil.move(filepath, os.getcwd()+'/examples/'+label)\n",
    "    else:\n",
    "        if os.path.isdir(\"examples/\"+\"Other\"):\n",
    "            # 如果目錄存在就移動到當前目錄\n",
    "            shutil.move(filepath, os.getcwd()+'/examples/'+\"Other\")\n",
    "            print(\"檔案存在。\")\n",
    "        else:\n",
    "            os.mkdir(\"examples/\"+\"Other\")\n",
    "            shutil.move(filepath, os.getcwd()+'/examples/'+\"Other\")"
   ]
  },
  {
   "cell_type": "markdown",
   "metadata": {},
   "source": [
    "<font color=#1a2933  size=4 face=\"黑体\">\n",
    "    \n",
    "經過分類後，可知道所有圖片都分好了如下圖\n",
    "</font>\n"
   ]
  },
  {
   "cell_type": "markdown",
   "metadata": {},
   "source": [
    "![](https://i.imgur.com/UQO1LdO.png)"
   ]
  },
  {
   "cell_type": "markdown",
   "metadata": {},
   "source": [
    "<font color=#1a2933  size=8 face=\"黑体\">\n",
    "    \n",
    "成果展示：\n",
    "</font>\n"
   ]
  },
  {
   "cell_type": "markdown",
   "metadata": {},
   "source": [
    "<font color=#1a2933  size=4 face=\"黑体\">\n",
    "Red Square\n",
    "莫斯科 - 紅場\n",
    "</font>\n",
    "\n",
    "![](https://i.imgur.com/YS4ROSP.png)"
   ]
  },
  {
   "cell_type": "markdown",
   "metadata": {},
   "source": [
    "\n",
    "<font color=#1a2933  size=4 face=\"黑体\">\n",
    "\n",
    "State of liberty \n",
    "美國 - 自由女神像 \n",
    "</font>\n",
    "![](https://i.imgur.com/cPzPPhL.png)"
   ]
  },
  {
   "cell_type": "markdown",
   "metadata": {},
   "source": [
    "\n",
    "<font color=#1a2933  size=4 face=\"黑体\">\n",
    "\n",
    "State of liberty \n",
    "印度 - 泰姬瑪哈陵\n",
    "</font>\n",
    "![](https://i.imgur.com/GxwvIZ0.png)"
   ]
  },
  {
   "cell_type": "markdown",
   "metadata": {},
   "source": [
    "<font color=#1a2933  size=4 face=\"黑体\">\n",
    "\n",
    "The Great Wall\n",
    "中國 - 萬里長城\n",
    "</font>\n",
    "![](https://i.imgur.com/rOheLMy.png)"
   ]
  },
  {
   "cell_type": "markdown",
   "metadata": {},
   "source": [
    "<font color=#1a2933  size=4 face=\"黑体\">\n",
    "\n",
    "不符合的，分到other資料夾\n",
    "</font>\n",
    "![](https://i.imgur.com/uwsSWfn.png)"
   ]
  },
  {
   "cell_type": "code",
   "execution_count": null,
   "metadata": {},
   "outputs": [],
   "source": []
  }
 ],
 "metadata": {
  "kernelspec": {
   "display_name": "Python 3",
   "language": "python",
   "name": "python3"
  },
  "language_info": {
   "codemirror_mode": {
    "name": "ipython",
    "version": 3
   },
   "file_extension": ".py",
   "mimetype": "text/x-python",
   "name": "python",
   "nbconvert_exporter": "python",
   "pygments_lexer": "ipython3",
   "version": "3.6.8"
  }
 },
 "nbformat": 4,
 "nbformat_minor": 2
}
