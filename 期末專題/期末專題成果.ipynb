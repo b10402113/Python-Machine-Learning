{
 "cells": [
  {
   "cell_type": "markdown",
   "metadata": {},
   "source": [
    "\n",
    "## <font color=#0099ff size=7 face=\"黑体\">期末專題 - 十大地標之圖片辨識</font>\n",
    "\n",
    "\n"
   ]
  },
  {
   "cell_type": "markdown",
   "metadata": {},
   "source": [
    "<font color=#1a2933 size=5 face=\"黑体\"> 成員簡介 </font>\n",
    " <font color=#1a2933 size=4 face=\"黑体\">\n",
    "    \n",
    "* 臺灣科技大學 B10402113 鄭和軒\n",
    "* 張廷豪\n",
    "* 陳思妤\n",
    "</font>\n"
   ]
  },
  {
   "cell_type": "markdown",
   "metadata": {},
   "source": [
    "##  <font color=#1a2933 size=6 face=\"黑体\">一、動機與目標</font>\n",
    "<font color=#1a2933 size=3 face=\"黑体\"> 我們是一群喜歡在各地旅遊的大學生，因此希望透過人工智慧的CNN卷積網路辨識，學習怎麼幫圖片做分類，因此我們先從小做起，挑了十大我們喜歡的地標，做成一個model，並自動去識別example資料夾的每一張風景圖，如果辨識率大於90%，我們則將他分類到該類型圖片的資料夾，反之，我們則分類到「other」資料夾。</font>\n",
    "\n",
    "## 以下為十大地標：\n",
    "\n",
    " <font color=#0099ff size=3 face=\"黑体\"></font>\n",
    " <font color=#1a2933 size=3 face=\"黑体\">\n",
    "\n",
    "* 美國-自由女神像\n",
    "* 法國-埃菲爾鐵塔\n",
    "* 英國-大笨鐘\n",
    "* 中國-萬里長城\n",
    "* 俄羅斯-莫斯科紅場\n",
    "* 義大利-比薩斜塔\n",
    "* 印度-泰姬陵\n",
    "* 英國—巨石陣\n",
    "* 巴西-救世主耶穌基督像\n",
    "* 台灣-台北101\n",
    "\n",
    "</font>\n"
   ]
  },
  {
   "cell_type": "markdown",
   "metadata": {},
   "source": [
    "##  <font color=#1a2933 size=6 face=\"黑体\">二、輸入與輸出</font>"
   ]
  },
  {
   "cell_type": "markdown",
   "metadata": {},
   "source": [
    " <font color=#0099ff size=5 face=\"黑体\"> \n",
    "* 輸入\n",
    "</font>\n",
    "\n",
    "<font color=#1a2933 size=3 face=\"黑体\"> \n",
    "多張圖片，圖片格式不拘\n",
    "</font>\n",
    "\n",
    " <font color=#0099ff size=5 face=\"黑体\"> \n",
    "* 輸出\n",
    "</font>\n",
    "\n",
    "<font color=#1a2933 size=3 face=\"黑体\"> \n",
    "將每一張圖片分類至屬於該地標的資料夾\n",
    "</font>\n",
    "\n",
    "## 範例：\n",
    "<font color=#1a2933 size=3 face=\"黑体\"> \n",
    "\n",
    "輸入：\n",
    "000011.jpeg 為（自由女神）的圖片\n",
    "\n",
    "輸出：\n",
    "* 辨識為自由女神->分類至自由女神的資料夾\n",
    "* 若辨識率<90%-> 分類至other資料夾\n",
    "</font>\n"
   ]
  },
  {
   "cell_type": "markdown",
   "metadata": {},
   "source": [
    "##  <font color=#1a2933  size=6 face=\"黑体\">三、實作流程</font>\n",
    "\n"
   ]
  },
  {
   "cell_type": "markdown",
   "metadata": {},
   "source": [
    "![](https://i.imgur.com/9uKvdcN.jpg)"
   ]
  },
  {
   "cell_type": "markdown",
   "metadata": {},
   "source": []
  },
  {
   "cell_type": "code",
   "execution_count": null,
   "metadata": {},
   "outputs": [],
   "source": []
  }
 ],
 "metadata": {
  "kernelspec": {
   "display_name": "Python 3",
   "language": "python",
   "name": "python3"
  },
  "language_info": {
   "codemirror_mode": {
    "name": "ipython",
    "version": 3
   },
   "file_extension": ".py",
   "mimetype": "text/x-python",
   "name": "python",
   "nbconvert_exporter": "python",
   "pygments_lexer": "ipython3",
   "version": "3.6.8"
  }
 },
 "nbformat": 4,
 "nbformat_minor": 2
}
