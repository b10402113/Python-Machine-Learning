{
 "cells": [
  {
   "cell_type": "markdown",
   "metadata": {},
   "source": [
    "\n",
    "## <font color=#0099ff size=6 face=\"黑体\">步驟2 - 建立資料集</font>\n"
   ]
  },
  {
   "cell_type": "markdown",
   "metadata": {},
   "source": [
    "<font color=#1a2933  size=3 face=\"黑体\">\n",
    "在我們將圖片都加入到dataset之後，我們即可開始把資料集的圖片做處理，目標是將每張圖片標準化及使用open-cv將圖片轉為array再存起來，方便之後訓練model。\n",
    "</font>\n",
    "\n",
    "<font color=#1a2933  size=5 face=\"黑体\">一、引入必須套件</font>\n"
   ]
  },
  {
   "cell_type": "code",
   "execution_count": 72,
   "metadata": {},
   "outputs": [],
   "source": [
    "import numpy as np\n",
    "import matplotlib.pyplot as plt\n",
    "from keras.preprocessing.image import img_to_array\n",
    "import os\n",
    "# cv2可以用來對圖片做處理\n",
    "import cv2\n",
    "# 引入imutils 的paht，他可以幫我們把所有的圖片之檔名列出\n",
    "from imutils import paths\n",
    "# 標籤數據化\n",
    "from sklearn.preprocessing import LabelBinarizer\n",
    "# 存入數據\n",
    "import pickle\n"
   ]
  },
  {
   "cell_type": "markdown",
   "metadata": {},
   "source": [
    "<font color=#1a2933  size=5 face=\"黑体\">二、圖片處理與打亂順序</font>\n",
    "<font color=#1a2933  size=3 face=\"黑体\">\n",
    "    \n",
    "引入必要套件後，我們即可開始做data的處理\n",
    "1. 首先我們使用paths的函數list_images，將資料集內的所有圖片的path放入imagePaths中。\n",
    "2. 接著，我們使用cv2去對圖片進行resize及轉換為array並放入data之中\n",
    "3. 使用labels這個陣列去存取每一張圖片的label\n",
    "</font>"
   ]
  },
  {
   "cell_type": "code",
   "execution_count": 73,
   "metadata": {},
   "outputs": [],
   "source": [
    "imagePaths = sorted(list(paths.list_images(\"dataset\")))\n",
    "data = []\n",
    "labels = []\n",
    "import random\n",
    "random.seed(42)\n",
    "random.shuffle(imagePaths)\n",
    "\n",
    "for imagePath in imagePaths:\n",
    "    # 使用cv2去將圖片read、resize、convert to array\n",
    "    image = cv2.imread(imagePath)\n",
    "    image = cv2.resize(image, (96, 96))\n",
    "    image = img_to_array(image)\n",
    "    data.append(image)\n",
    "    \n",
    "    label = imagePath.split(os.path.sep)[-2]\n",
    "    labels.append(label)"
   ]
  },
  {
   "cell_type": "markdown",
   "metadata": {},
   "source": [
    "<font color=#1a2933  size=5 face=\"黑体\">三、data與labels的處理</font>\n",
    "<font color=#1a2933  size=3 face=\"黑体\">\n",
    "    \n",
    "我們接下來會將data與labels的list型態轉為nparray，方便之後訓練\n",
    "data的部分我們會/255，原因是\n",
    "</font>"
   ]
  },
  {
   "cell_type": "code",
   "execution_count": 74,
   "metadata": {},
   "outputs": [],
   "source": [
    "# 將data的數值範圍縮小至 range [0, 1]的nparray\n",
    "data = np.array(data, dtype=\"float\") / 255.0\n",
    "labels = np.array(labels)\n",
    "# 將labels化成數字\n",
    "lb = LabelBinarizer()\n",
    "labels = lb.fit_transform(labels)"
   ]
  },
  {
   "cell_type": "code",
   "execution_count": 75,
   "metadata": {},
   "outputs": [
    {
     "name": "stdout",
     "output_type": "stream",
     "text": [
      "[0 0 0 0 0 0 1 0 0 0]\n",
      "(10226, 96, 96, 3)\n",
      "(10226, 10)\n"
     ]
    }
   ],
   "source": [
    "# 可見我們現在labels已經為數字了\n",
    "print(labels[0])\n",
    "# data 之 shape為(10226, 96, 96, 3)\n",
    "print(data.shape)\n",
    "# data 之 shape為(10226, 10)\n",
    "print(labels.shape)"
   ]
  },
  {
   "cell_type": "markdown",
   "metadata": {},
   "source": [
    "<font color=#1a2933  size=5 face=\"黑体\">四、要來將data與labels存起來囉！</font>\n",
    "\n",
    "\n",
    "<font color=#1a2933  size=3 face=\"黑体\">\n",
    "    \n",
    "先將數據存成數據集，及數據序列化後\n",
    "讀取看看能否成功\n",
    "</font>"
   ]
  },
  {
   "cell_type": "code",
   "execution_count": 76,
   "metadata": {},
   "outputs": [],
   "source": [
    "# 創立一個tl_data.pickle的檔案存取data資料\n",
    "pickle_out = open(\"tl_data.pickle\", \"wb\")\n",
    "pickle.dump(data ,pickle_out)\n",
    "pickle_out.close()"
   ]
  },
  {
   "cell_type": "code",
   "execution_count": 77,
   "metadata": {},
   "outputs": [],
   "source": [
    "# 創立一個tl_labels.pickle的檔案存取data資料\n",
    "pickle_out = open(\"tl_labels.pickle\", \"wb\")\n",
    "pickle.dump(labels ,pickle_out)\n",
    "pickle_out.close()"
   ]
  },
  {
   "cell_type": "code",
   "execution_count": 78,
   "metadata": {},
   "outputs": [],
   "source": [
    "# 讀取資料看看有沒有成功\n",
    "pickle_in = open(\"tl_data.pickle\",\"rb\")\n",
    "tl_data = pickle.load(pickle_in)"
   ]
  },
  {
   "cell_type": "code",
   "execution_count": 79,
   "metadata": {},
   "outputs": [],
   "source": [
    "pickle_in = open(\"tl_labels.pickle\",\"rb\")\n",
    "tl_labels = pickle.load(pickle_in)"
   ]
  },
  {
   "cell_type": "code",
   "execution_count": 80,
   "metadata": {},
   "outputs": [
    {
     "name": "stdout",
     "output_type": "stream",
     "text": [
      "True\n",
      "True\n"
     ]
    }
   ],
   "source": [
    "# 比較兩個data是否相等\n",
    "print((labels == tl_labels).all())\n",
    "print((data == tl_data).all())"
   ]
  },
  {
   "cell_type": "code",
   "execution_count": 83,
   "metadata": {},
   "outputs": [],
   "source": [
    "# 存入lb之後方便比對"
   ]
  },
  {
   "cell_type": "code",
   "execution_count": 81,
   "metadata": {},
   "outputs": [],
   "source": [
    "f = open('lb.pickle', \"wb\")\n",
    "f.write(pickle.dumps(lb))\n",
    "f.close()"
   ]
  },
  {
   "cell_type": "markdown",
   "metadata": {},
   "source": [
    "<font color=#1a2933  size=5 face=\"黑体\">五、 總結</font>\n",
    "\n",
    "<font color=#1a2933  size=3 face=\"黑体\">上述步驟做完，我們就做了自己專屬的資料集了！</font>"
   ]
  },
  {
   "cell_type": "code",
   "execution_count": null,
   "metadata": {},
   "outputs": [],
   "source": []
  }
 ],
 "metadata": {
  "kernelspec": {
   "display_name": "Python 3",
   "language": "python",
   "name": "python3"
  },
  "language_info": {
   "codemirror_mode": {
    "name": "ipython",
    "version": 3
   },
   "file_extension": ".py",
   "mimetype": "text/x-python",
   "name": "python",
   "nbconvert_exporter": "python",
   "pygments_lexer": "ipython3",
   "version": "3.6.8"
  }
 },
 "nbformat": 4,
 "nbformat_minor": 2
}
