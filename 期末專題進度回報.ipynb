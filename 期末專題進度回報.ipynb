{
 "cells": [
  {
   "cell_type": "markdown",
   "metadata": {},
   "source": [
    "# 期末專題進度回報\n",
    "\n",
    "## 一、專題組員\n",
    "* 鄭和軒\n",
    "* 張廷豪\n",
    "* 陳思妤"
   ]
  },
  {
   "cell_type": "markdown",
   "metadata": {},
   "source": [
    "## 二、題目名稱:\n",
    "## 世界十大知名地標之辨識"
   ]
  },
  {
   "cell_type": "markdown",
   "metadata": {},
   "source": [
    "## 三、主題介紹\n",
    "#### 首先使用Scrapy爬蟲神器將Flickr的照片下載十大美景之圖片（各一千張，總共一萬張）\n",
    "### 1. 美國-自由女神像\n",
    "### 2. 法國-埃菲爾鐵塔\n",
    "### 3. 英國-大笨鐘\n",
    "### 4. 中國-萬裡長城\n",
    "### 5. 俄羅斯-莫斯科紅場\n",
    "### 6. 義大利-比薩斜塔\n",
    "### 7. 印度-泰姬陵\n",
    "### 8. 荷蘭—風車\n",
    "### 9. 巴西-救世主耶穌基督像\n",
    "### 10. 台灣-台北101\n",
    "\n",
    "### 並分類，之後利用CNN卷積網路進行模型訓練，最後只要使用者輸入包含以上任一景象的圖片，即會辨識此圖為哪一國家之照片。"
   ]
  },
  {
   "cell_type": "markdown",
   "metadata": {},
   "source": [
    "## 四、執行方法"
   ]
  },
  {
   "cell_type": "markdown",
   "metadata": {},
   "source": [
    "### 執行方法 - 1使用scrapy進行爬蟲，爬下flickr上的圖片\n",
    "\n",
    "#### 1. 透過Python的爬蟲套件Scrapy 從flickr下載圖片作為資料集，並分類群\n"
   ]
  },
  {
   "cell_type": "markdown",
   "metadata": {},
   "source": [
    "### 執行方法 - 2 對原有的圖片進行處理及壓縮\n",
    "#### 將圖片尺寸不一的圖片進行壓縮為100 * 100 pixel"
   ]
  },
  {
   "cell_type": "markdown",
   "metadata": {},
   "source": [
    "### 執行方法 - 3 對已壓縮的圖片進行CNN訓練模型"
   ]
  },
  {
   "cell_type": "markdown",
   "metadata": {},
   "source": [
    "### 執行方法 - 4 輸入測試圖片，觀看準確率"
   ]
  },
  {
   "cell_type": "markdown",
   "metadata": {},
   "source": [
    "## 五、分工項目\n",
    "* 執行方法 - 1 陳思妤\n",
    "* 執行方法 - 2 張廷豪\n",
    "* 執行方法 - 3 鄭和軒\n",
    "* 執行方法 - 4 全組組員"
   ]
  },
  {
   "cell_type": "markdown",
   "metadata": {},
   "source": [
    "## 六、時程管理\n",
    "#### 05/26 第一次開會與分工\n",
    "#### 05/27 ~ 05/29 開始進行爬蟲\n",
    "#### 05/29 ~ 05/31 圖片處理\n",
    "#### 05/31 ~ 06/03 模型訓練\n",
    "#### 06/03 ~ 06/07 模型優化"
   ]
  },
  {
   "cell_type": "code",
   "execution_count": null,
   "metadata": {},
   "outputs": [],
   "source": []
  }
 ],
 "metadata": {
  "kernelspec": {
   "display_name": "Python 3",
   "language": "python",
   "name": "python3"
  },
  "language_info": {
   "codemirror_mode": {
    "name": "ipython",
    "version": 3
   },
   "file_extension": ".py",
   "mimetype": "text/x-python",
   "name": "python",
   "nbconvert_exporter": "python",
   "pygments_lexer": "ipython3",
   "version": "3.6.8"
  }
 },
 "nbformat": 4,
 "nbformat_minor": 2
}
